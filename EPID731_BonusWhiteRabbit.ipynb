{
  "nbformat": 4,
  "nbformat_minor": 0,
  "metadata": {
    "colab": {
      "provenance": [],
      "toc_visible": true,
      "authorship_tag": "ABX9TyP72vivGO3d5BB1l/QpMH4w",
      "include_colab_link": true
    },
    "kernelspec": {
      "name": "ir",
      "display_name": "R"
    },
    "language_info": {
      "name": "R"
    }
  },
  "cells": [
    {
      "cell_type": "markdown",
      "metadata": {
        "id": "view-in-github",
        "colab_type": "text"
      },
      "source": [
        "<a href=\"https://colab.research.google.com/github/statgen/EPID731_2024/blob/main/EPID731_BonusWhiteRabbit.ipynb\" target=\"_parent\"><img src=\"https://colab.research.google.com/assets/colab-badge.svg\" alt=\"Open In Colab\"/></a>"
      ]
    },
    {
      "cell_type": "markdown",
      "source": [
        "# Exercise Objective:\n",
        "\n",
        "In this exercise, you will use the WhiteRabbit tool to perform data profiling on the MIMIC-IV demo OMOP dataset.\n",
        "This will help you understand the dataset's structure and prepare it for further analysis tasks.\n",
        "\n"
      ],
      "metadata": {
        "id": "E8opjb50dwFT"
      }
    },
    {
      "cell_type": "markdown",
      "source": [
        "\n",
        "## Introduction to WhiteRabbit:\n",
        "\n",
        "WhiteRabbit is a data profiling and ETL (Extract, Transform, Load) tool developed by OHDSI. It helps explore\n",
        "and understand healthcare databases, identify data issues, and create ETL specifications for mapping to the OMOP Common Data Model.\n",
        "Key features include database scanning, generating scan reports, and assisting with ETL specifications.\n",
        "\n",
        "Reference: [WhiteRabbit GitHub](https://github.com/OHDSI/WhiteRabbit/releases/tag/v1.0.0-RC2)\n"
      ],
      "metadata": {
        "id": "4NMMDw7Ug145"
      }
    },
    {
      "cell_type": "markdown",
      "source": [
        "## MIMIC-IV Demo OMOP Dataset\n",
        "\n",
        "This dataset contains de-identified health records from the MIMIC-IV database, converted into the OMOP Common Data Model format. It is designed for demonstrating the use of the OMOP CDM with real-world healthcare data. The dataset includes various medical records suitable for research and educational purposes.\n",
        "\n",
        "Reference: PhysioNet: https://physionet.org/content/mimic-iv-demo-omop/0.9/\n"
      ],
      "metadata": {
        "id": "5HZLDOfiLSaS"
      }
    },
    {
      "cell_type": "markdown",
      "source": [
        "\n",
        "## Step 1. Downloading and Setting Up WhiteRabbit:\n",
        "\n",
        "First, download and decompress the \"WhiteRabbit version 1.0.0 release candidate 2 Pre-release.\"  \n",
        "Here we use the MacOS, Linux binary ``  \n",
        "(The WindowsOS command is `/content/WhiteRabbit_v1.0.0-rc2/bin/whiteRabbit.bat`)"
      ],
      "metadata": {
        "id": "unK8d3X-gtxM"
      }
    },
    {
      "cell_type": "code",
      "source": [
        "install.packages(\"RCurl\")\n",
        "library(RCurl)\n",
        "\n",
        "download.file(\"https://github.com/OHDSI/WhiteRabbit/releases/download/v1.0.0-RC2/WhiteRabbit_v1.0.0-rc2.zip\", destfile = \"WhiteRabbit.zip\")\n",
        "system(\"unzip WhiteRabbit.zip\")\n",
        "\n",
        "if (file.exists(\"./WhiteRabbit_v1.0.0-rc2\")) {\n",
        "  cat(\"WhiteRabbit downloaded and unzipped successfully!\\n\")\n",
        "} else {\n",
        "  cat(\"Failed to download or unzip WhiteRabbit. Please check the URL and file paths.\\n\")\n",
        "}"
      ],
      "metadata": {
        "id": "Tu4T1XghdzE7"
      },
      "execution_count": null,
      "outputs": []
    },
    {
      "cell_type": "markdown",
      "source": [
        "## Step 2. Downloading the MIMIC-IV Demo OMOP Dataset:\n",
        "\n",
        "We will download the dataset and unzip the file using the following commands:"
      ],
      "metadata": {
        "id": "CIHY2cG9gl5J"
      }
    },
    {
      "cell_type": "code",
      "source": [
        "download.file(\"https://physionet.org/static/published-projects/mimic-iv-demo-omop/mimic-iv-demo-data-in-the-omop-common-data-model-0.9.zip\", destfile = \"MIMIC-IV-Demo.zip\")\n",
        "unzip(\"MIMIC-IV-Demo.zip\")\n",
        "\n",
        "if (file.exists(\"./mimic-iv-demo-data-in-the-omop-common-data-model-0.9\")) {\n",
        "  cat(\"Dataset downloaded and unzipped successfully!\\n\")\n",
        "} else {\n",
        "  cat(\"Failed to download or unzip the dataset. Please check the URL and file paths.\\n\")\n",
        "}"
      ],
      "metadata": {
        "id": "WT_Z-wPteUnA"
      },
      "execution_count": null,
      "outputs": []
    },
    {
      "cell_type": "markdown",
      "source": [
        "## Step 3. Writing an INI File for WhiteRabbit\n",
        "\n",
        "To use the WhiteRabbit command line tools, we need an INI file. Below is the original template for reference:\n",
        "\n",
        "```ini\n",
        "# Usage: dist/bin/whiteRabbit -ini <ini_file_path>\n",
        "WORKING_FOLDER = /users/joe                   # Path to the folder where all output will be written\n",
        "DATA_TYPE = PostgreSQL                        # \"Delimited text files\", \"MySQL\", \"Oracle\", \"SQL Server\", \"PostgreSQL\", \"MS Access\", \"Redshift\", \"BigQuery\", \"Azure\", \"Teradata\", \"SAS7bdat\"\n",
        "SERVER_LOCATION = 127.0.0.1/data_base_name    # Name or address of the server. For Postgres, add the database name\n",
        "USER_NAME = joe                               # User name for the database\n",
        "PASSWORD = supersecret                        # Password for the database\n",
        "DATABASE_NAME = schema_name                   # Name of the data schema used\n",
        "DELIMITER = ,                                 # The delimiter that separates values \",\" or \"tab\"\n",
        "TABLES_TO_SCAN = *                            # Comma-delimited list of table names to scan. Use \"*\" (asterix) to include all tables in the database\n",
        "SCAN_FIELD_VALUES = yes                       # Include the frequency of field values in the scan report? \"yes\" or \"no\"\n",
        "MIN_CELL_COUNT = 5                            # Minimum frequency for a field value to be included in the report\n",
        "MAX_DISTINCT_VALUES = 1000                    # Maximum number of distinct values per field to be reported\n",
        "ROWS_PER_TABLE = 100000                       # Maximum number of rows per table to be scanned for field values\n",
        "CALCULATE_NUMERIC_STATS = no                  # Include average, standard deviation and quartiles in the scan report? \"yes\" or \"no\"\n",
        "NUMERIC_STATS_SAMPLER_SIZE = 500              # Maximum number of rows used to calculate numeric statistics\n",
        "```\n",
        "\n",
        "For our scan, we need the following options:\n",
        "\n",
        "- `WORKING_FOLDER`: Path where output will be written.\n",
        "- `DATA_TYPE`: Set to \"Delimited text files\".\n",
        "- `DELIMITER`: The delimiter separating values, e.g., a comma.\n",
        "- `TABLES_TO_SCAN`: Set to \"person.csv,measurement.csv\" to scan only the person and measurement tables (use \"*\" to scan all).\n",
        "- `SCAN_FIELD_VALUES`: Set to \"yes\" to include the frequency of field values.\n",
        "- `MIN_CELL_COUNT`: Set the minimum frequency for a field value to be included in the report.\n",
        "- `MAX_DISTINCT_VALUES`: Set the maximum number of distinct values per field.\n",
        "- `ROWS_PER_TABLE`: Set the maximum number of rows per table to scan.\n",
        "- `CALCULATE_NUMERIC_STATS`: Set to \"yes\" to include numeric statistics.\n",
        "- `NUMERIC_STATS_SAMPLER_SIZE`: Set the number of rows used for calculating numeric statistics.\n",
        "\n",
        "We do not need to specify `SERVER_LOCATION`, `USER_NAME`, `PASSWORD`, or `DATABASE_NAME` since we are using delimited text files."
      ],
      "metadata": {
        "id": "TaSfdhb-NKYu"
      }
    },
    {
      "cell_type": "code",
      "source": [
        "ini_content <- \"\n",
        "WORKING_FOLDER = /content/mimic-iv-demo-data-in-the-omop-common-data-model-0.9/1_omop_data_csv\n",
        "DATA_TYPE = Delimited text files\n",
        "DELIMITER = ,\n",
        "TABLES_TO_SCAN = person.csv,measurement.csv\n",
        "SCAN_FIELD_VALUES = yes\n",
        "MIN_CELL_COUNT = 5\n",
        "MAX_DISTINCT_VALUES = 1000\n",
        "ROWS_PER_TABLE = 100000\n",
        "CALCULATE_NUMERIC_STATS = yes\n",
        "NUMERIC_STATS_SAMPLER_SIZE = 500\n",
        "\"\n",
        "writeLines(ini_content, \"/content/mimic-iv-demo.ini\")\n",
        "\n",
        "cat(\"INI file created successfully. Path: '/content/mimic-iv-demo.ini'\\n\")\n"
      ],
      "metadata": {
        "id": "PMDcHPHJIbs7"
      },
      "execution_count": null,
      "outputs": []
    },
    {
      "cell_type": "markdown",
      "source": [
        "## Step 4. Running WhiteRabbit to Generate Scan Report\n",
        "\n",
        "Now, use the WhiteRabbit tool to scan the dataset as specified in your INI file and generate a report.\n"
      ],
      "metadata": {
        "id": "6v4dEx6LfF_q"
      }
    },
    {
      "cell_type": "code",
      "source": [
        "system(paste(\"WhiteRabbit_v1.0.0-rc2/bin/whiteRabbit -ini ./mimic-iv-demo.ini\"), intern = TRUE)\n",
        "file.rename(\"./mimic-iv-demo-data-in-the-omop-common-data-model-0.9/1_omop_data_csv/ScanReport.xlsx\", \"./mimic-iv-demo_ScanReport.xlsx\")\n",
        "\n",
        "cat(\"Scan report generated and moved successfully. Available at './mimic-iv-demo_ScanReport.xlsx'\\n\")"
      ],
      "metadata": {
        "id": "Nnxh-4HcfY1o"
      },
      "execution_count": null,
      "outputs": []
    },
    {
      "cell_type": "markdown",
      "source": [
        "The output is the file `/content/mimic-iv-demo_ScanReport.xlsx`.\n",
        "\n",
        "Download it and explore it offline.\n",
        "\n",
        "Here's a [GoogleSheets version of it](https://docs.google.com/spreadsheets/d/1LNKoadpKGuhHHIDxfpA36CM-0vMNzxpbHjzsf0JOPgo/edit?usp=sharing)."
      ],
      "metadata": {
        "id": "dxkdpA83GHzF"
      }
    }
  ]
}