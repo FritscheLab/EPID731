{
 "cells": [
  {
   "cell_type": "markdown",
   "metadata": {},
   "source": [
    "<a href=\"https://colab.research.google.com/github/FritscheLab/EPID731/blob/main/Day2/EPID731_BonusWhiteRabbit.ipynb\" target=\"_parent\"><img src=\"https://colab.research.google.com/assets/colab-badge.svg\" alt=\"Open In Colab\"/></a>"
   ]
  },
  {
   "cell_type": "markdown",
   "metadata": {
    "id": "kimUp6inkx_2"
   },
   "source": [
    "# Before you start: Create a copy of this notebook\n",
    "The original notebook is read-only, so please follow these steps to get a copy you can modify and interact with:\n",
    "\n",
    "Go to the File menu in the top left corner and select Save a copy in Drive.\n",
    "(If you can't see the File menu, click the ^ button in the top right corner.)\n",
    "Close the tab with the original file `EPID731_BonusWhiteRabbit.ipynb`.\n",
    "Open and follow the exercise in your new copy, named\n",
    "`Copy of EPID731_BonusWhiteRabbit.ipynb`, which is now saved in your Google Drive."
   ]
  },
  {
   "cell_type": "markdown",
   "metadata": {
    "id": "E8opjb50dwFT"
   },
   "source": [
    "# Exercise Objective:\n",
    "\n",
    "In this exercise, you will use the WhiteRabbit tool to perform data profiling on the MIMIC-IV demo OMOP dataset.\n",
    "This will help you understand the dataset's structure and prepare it for further analysis tasks.\n",
    "\n"
   ]
  },
  {
   "cell_type": "markdown",
   "metadata": {
    "id": "4NMMDw7Ug145"
   },
   "source": [
    "\n",
    "## Introduction to WhiteRabbit:\n",
    "\n",
    "WhiteRabbit is a data profiling and ETL (Extract, Transform, Load) tool developed by OHDSI. It helps explore\n",
    "and understand healthcare databases, identify data issues, and create ETL specifications for mapping to the OMOP Common Data Model.\n",
    "Key features include database scanning, generating scan reports, and assisting with ETL specifications.\n",
    "\n",
    "Reference: [WhiteRabbit GitHub](https://github.com/OHDSI/WhiteRabbit/releases/tag/v1.0.0-RC2)\n"
   ]
  },
  {
   "cell_type": "markdown",
   "metadata": {
    "id": "5HZLDOfiLSaS"
   },
   "source": [
    "## MIMIC-IV Demo OMOP Dataset\n",
    "\n",
    "This dataset contains de-identified health records from the MIMIC-IV database, converted into the OMOP Common Data Model format. It is designed for demonstrating the use of the OMOP CDM with real-world healthcare data. The dataset includes various medical records suitable for research and educational purposes.\n",
    "\n",
    "Reference: PhysioNet: https://physionet.org/content/mimic-iv-demo-omop/0.9/\n"
   ]
  },
  {
   "cell_type": "markdown",
   "metadata": {
    "id": "unK8d3X-gtxM"
   },
   "source": [
    "\n",
    "## Step 1. Downloading and Setting Up WhiteRabbit:\n",
    "\n",
    "First, download and decompress the \"WhiteRabbit version 1.0.0 release.\"  \n",
    "Here we use the MacOS, Linux binary `./WhiteRabbit_v1.0.0/bin/whiteRabbit`  \n",
    "(The WindowsOS command is `./WhiteRabbit_v1.0.0/bin/whiteRabbit.bat`)"
   ]
  },
  {
   "cell_type": "code",
   "execution_count": null,
   "metadata": {
    "colab": {
     "base_uri": "https://localhost:8080/"
    },
    "id": "Tu4T1XghdzE7",
    "outputId": "e20165cb-d91e-4f2a-f37d-601ae5fa7477",
    "vscode": {
     "languageId": "r"
    }
   },
   "outputs": [],
   "source": [
    "install.packages(\"RCurl\")\n",
    "library(RCurl)\n",
    "\n",
    "download.file(\"https://github.com/OHDSI/WhiteRabbit/releases/download/v1.0.0/WhiteRabbit_v1.0.0.zip\", destfile = \"WhiteRabbit.zip\")\n",
    "system(\"unzip WhiteRabbit.zip\")\n",
    "\n",
    "if (file.exists(\"./WhiteRabbit_v1.0.0\")) {\n",
    "  cat(\"WhiteRabbit downloaded and unzipped successfully!\\n\")\n",
    "} else {\n",
    "  cat(\"Failed to download or unzip WhiteRabbit. Please check the URL and file paths.\\n\")\n",
    "}"
   ]
  },
  {
   "cell_type": "markdown",
   "metadata": {
    "id": "CIHY2cG9gl5J"
   },
   "source": [
    "## Step 2. Downloading the MIMIC-IV Demo OMOP Dataset:\n",
    "\n",
    "We will download the demo dataset (10.8 MB) and unzip the file using the following commands:"
   ]
  },
  {
   "cell_type": "code",
   "execution_count": null,
   "metadata": {
    "colab": {
     "base_uri": "https://localhost:8080/"
    },
    "id": "WT_Z-wPteUnA",
    "outputId": "8732ca24-b67f-4e9c-e082-9eac1492898b",
    "vscode": {
     "languageId": "r"
    }
   },
   "outputs": [],
   "source": [
    "download.file(\"https://physionet.org/static/published-projects/mimic-iv-demo-omop/mimic-iv-demo-data-in-the-omop-common-data-model-0.9.zip\", destfile = \"MIMIC-IV-Demo.zip\")\n",
    "unzip(\"MIMIC-IV-Demo.zip\")\n",
    "\n",
    "if (file.exists(\"./mimic-iv-demo-data-in-the-omop-common-data-model-0.9\")) {\n",
    "  cat(\"Dataset downloaded and unzipped successfully!\\n\")\n",
    "} else {\n",
    "  cat(\"Failed to download or unzip the dataset. Please check the URL and file paths.\\n\")\n",
    "}"
   ]
  },
  {
   "cell_type": "markdown",
   "metadata": {
    "id": "TaSfdhb-NKYu"
   },
   "source": [
    "## Step 3. Writing an INI File for WhiteRabbit\n",
    "\n",
    "To use the WhiteRabbit command line tools, we need an INI file. Below is the original template for reference:\n",
    "\n",
    "```ini\n",
    "# Usage: dist/bin/whiteRabbit -ini <ini_file_path>\n",
    "WORKING_FOLDER = /users/joe                   # Path to the folder where all output will be written\n",
    "DATA_TYPE = PostgreSQL                        # \"Delimited text files\", \"MySQL\", \"Oracle\", \"SQL Server\", \"PostgreSQL\", \"MS Access\", \"Redshift\", \"BigQuery\", \"Azure\", \"Teradata\", \"SAS7bdat\"\n",
    "SERVER_LOCATION = 127.0.0.1/data_base_name    # Name or address of the server. For Postgres, add the database name\n",
    "USER_NAME = joe                               # User name for the database\n",
    "PASSWORD = supersecret                        # Password for the database\n",
    "DATABASE_NAME = schema_name                   # Name of the data schema used\n",
    "DELIMITER = ,                                 # The delimiter that separates values \",\" or \"tab\"\n",
    "TABLES_TO_SCAN = *                            # Comma-delimited list of table names to scan. Use \"*\" (asterix) to include all tables in the database\n",
    "SCAN_FIELD_VALUES = yes                       # Include the frequency of field values in the scan report? \"yes\" or \"no\"\n",
    "MIN_CELL_COUNT = 5                            # Minimum frequency for a field value to be included in the report\n",
    "MAX_DISTINCT_VALUES = 1000                    # Maximum number of distinct values per field to be reported\n",
    "ROWS_PER_TABLE = 100000                       # Maximum number of rows per table to be scanned for field values\n",
    "CALCULATE_NUMERIC_STATS = no                  # Include average, standard deviation and quartiles in the scan report? \"yes\" or \"no\"\n",
    "NUMERIC_STATS_SAMPLER_SIZE = 500              # Maximum number of rows used to calculate numeric statistics\n",
    "```\n",
    "\n",
    "For our scan, we need the following options:\n",
    "\n",
    "- `WORKING_FOLDER`: Path where output will be written.\n",
    "- `DATA_TYPE`: Set to \"Delimited text files\".\n",
    "- `DELIMITER`: The delimiter separating values, e.g., a comma.\n",
    "- `TABLES_TO_SCAN`: Set to \"person.csv,measurement.csv\" to scan only the person and measurement tables (use \"*\" to scan all).\n",
    "- `SCAN_FIELD_VALUES`: Set to \"yes\" to include the frequency of field values.\n",
    "- `MIN_CELL_COUNT`: Set the minimum frequency for a field value to be included in the report.\n",
    "- `MAX_DISTINCT_VALUES`: Set the maximum number of distinct values per field.\n",
    "- `ROWS_PER_TABLE`: Set the maximum number of rows per table to scan.\n",
    "- `CALCULATE_NUMERIC_STATS`: Set to \"yes\" to include numeric statistics.\n",
    "- `NUMERIC_STATS_SAMPLER_SIZE`: Set the number of rows used for calculating numeric statistics.\n",
    "\n",
    "We do not need to specify `SERVER_LOCATION`, `USER_NAME`, `PASSWORD`, or `DATABASE_NAME` since we are using delimited text files."
   ]
  },
  {
   "cell_type": "code",
   "execution_count": null,
   "metadata": {
    "colab": {
     "base_uri": "https://localhost:8080/"
    },
    "id": "PMDcHPHJIbs7",
    "outputId": "1f94481b-c8a3-49d8-904c-722dc02964cc",
    "vscode": {
     "languageId": "r"
    }
   },
   "outputs": [],
   "source": [
    "ini_content <- \"\n",
    "WORKING_FOLDER = /content/mimic-iv-demo-data-in-the-omop-common-data-model-0.9/1_omop_data_csv\n",
    "DATA_TYPE = Delimited text files\n",
    "DELIMITER = ,\n",
    "TABLES_TO_SCAN = person.csv,measurement.csv\n",
    "SCAN_FIELD_VALUES = yes\n",
    "MIN_CELL_COUNT = 5\n",
    "MAX_DISTINCT_VALUES = 1000\n",
    "ROWS_PER_TABLE = 100000\n",
    "CALCULATE_NUMERIC_STATS = yes\n",
    "NUMERIC_STATS_SAMPLER_SIZE = 500\n",
    "\"\n",
    "writeLines(ini_content, \"/content/mimic-iv-demo.ini\")\n",
    "\n",
    "cat(\"INI file created successfully. Path: '/content/mimic-iv-demo.ini'\\n\")\n"
   ]
  },
  {
   "cell_type": "markdown",
   "metadata": {
    "id": "6v4dEx6LfF_q"
   },
   "source": [
    "## Step 4. Running WhiteRabbit to Generate Scan Report\n",
    "\n",
    "Now, use the WhiteRabbit tool to scan the dataset as specified in your INI file and generate a report.\n"
   ]
  },
  {
   "cell_type": "code",
   "execution_count": null,
   "metadata": {
    "colab": {
     "base_uri": "https://localhost:8080/",
     "height": 104
    },
    "id": "Nnxh-4HcfY1o",
    "outputId": "c5dd066c-13ae-4643-a4fa-1222646d5f0f",
    "vscode": {
     "languageId": "r"
    }
   },
   "outputs": [],
   "source": [
    "system(paste(\"WhiteRabbit_v1.0.0/bin/whiteRabbit -ini ./mimic-iv-demo.ini\"), intern = TRUE)\n",
    "file.rename(\"./mimic-iv-demo-data-in-the-omop-common-data-model-0.9/1_omop_data_csv/ScanReport.xlsx\", \"./mimic-iv-demo_ScanReport.xlsx\")\n",
    "\n",
    "cat(\"Scan report generated and moved successfully. Available at './mimic-iv-demo_ScanReport.xlsx'\\n\")"
   ]
  },
  {
   "cell_type": "markdown",
   "metadata": {
    "id": "dxkdpA83GHzF"
   },
   "source": [
    "**Next Steps:**\n",
    "\n",
    "The scan report is now available in your current directory as `./mimic-iv-demo_ScanReport.xlsx`. Download this file to your local machine to explore it further:\n",
    "\n",
    "**Access Online Version:**\n",
    "\n",
    "If you prefer to view a precompiled scan report online, you explore this Google Sheets Document: Here's a [link to a mimic-iv-demo_ScanReport.xlsx](https://docs.google.com/spreadsheets/d/1BD7RVmHaWFJXKL52JFbfCYCF902_X43CPmDpxRJnaAo/edit?usp=sharing)."
   ]
  },
  {
   "cell_type": "markdown",
   "metadata": {},
   "source": [
    "## Step 5. Alternative using `whiteRRabbit` (R-based tool)\n",
    "\n",
    "As an alternative to the Java-based WhiteRabbit, you can use `whiteRRabbit`, an R-based tool for data profiling. It is optimized for performance with `data.table` and offers additional features like date shifting and column exclusion.\n",
    "\n",
    "For more details, you can visit the [whiteRRabbit GitHub repository](https://github.com/FritscheLab/whiteRRabbit.git).\n",
    "\n",
    "First, let's clone the repository and install the required R packages."
   ]
  },
  {
   "cell_type": "code",
   "execution_count": null,
   "metadata": {
    "vscode": {
     "languageId": "r"
    }
   },
   "outputs": [],
   "source": [
    "system(\"git clone https://github.com/FritscheLab/whiteRRabbit.git\")\n",
    "install.packages(c(\"data.table\", \"optparse\", \"openxlsx\", \"lubridate\"))"
   ]
  },
  {
   "cell_type": "markdown",
   "metadata": {},
   "source": [
    "Now, we will run the `whiteRRabbit.R` script with parameters equivalent to the INI file configuration used for the Java-based WhiteRabbit. This command will process the `person.csv` and `measurement.csv` files."
   ]
  },
  {
   "cell_type": "code",
   "execution_count": null,
   "metadata": {
    "vscode": {
     "languageId": "r"
    }
   },
   "outputs": [],
   "source": [
    "# Create a subdirectory and move the relevant csv files there for whiteRRabbit to scan\n",
    "dir.create(\"whiterrabbit_input\")\n",
    "file.copy(\n",
    "  from=c(\"./mimic-iv-demo-data-in-the-omop-common-data-model-0.9/1_omop_data_csv/person.csv\", \"./mimic-iv-demo-data-in-the-omop-common-data-model-0.9/1_omop_data_csv/measurement.csv\"),\n",
    "  to=\"whiterrabbit_input\"\n",
    ")\n",
    "\n",
    "# Run whiteRRabbit\n",
    "system(paste(\n",
    "  \"Rscript ./whiteRRabbit/whiteRRabbit.R\",\n",
    "  \"--working_folder ./whiterrabbit_input\",\n",
    "  \"--delimiter ','\",\n",
    "  \"--output_dir ./\",\n",
    "  \"--output_format xlsx\",\n",
    "  \"--prefix whiteRRabbit_ScanReport\",\n",
    "  \"--maxRows 100000\",\n",
    "  \"--maxDistinctValues 1000\",\n",
    "  \"--scan_field_values\",\n",
    "  \"--min_cell_count 5\"\n",
    "))\n",
    "\n",
    "cat(\"whiteRRabbit scan report generated successfully. Available at './whiteRRabbit_ScanReport.xlsx'\\n\")"
   ]
  }
 ],
 "metadata": {
  "colab": {
   "provenance": []
  },
  "kernelspec": {
   "display_name": "R",
   "name": "ir"
  },
  "language_info": {
   "name": "R"
  }
 },
 "nbformat": 4,
 "nbformat_minor": 0
}
