{
 "cells": [
  {
   "cell_type": "markdown",
   "metadata": {},
   "source": [
    "<a href=\"https://colab.research.google.com/github/FritscheLab/EPID731/blob/main/Day2/EPID731_BonusWhiteRabbit.ipynb\" target=\"_parent\"><img src=\"https://colab.research.google.com/assets/colab-badge.svg\" alt=\"Open In Colab\"/></a>"
   ]
  },
  {
   "cell_type": "markdown",
   "metadata": {
    "id": "kimUp6inkx_2"
   },
   "source": [
    "# Before you start: Create a copy of this notebook\n",
    "The original notebook is read-only, so please follow these steps to get a copy you can modify and interact with:\n",
    "\n",
    "Go to the File menu in the top left corner and select Save a copy in Drive.\n",
    "(If you can't see the File menu, click the ^ button in the top right corner.)\n",
    "Close the tab with the original file `EPID731_BonusWhiteRabbit.ipynb`.\n",
    "Open and follow the exercise in your new copy, named\n",
    "`Copy of EPID731_BonusWhiteRabbit.ipynb`, which is now saved in your Google Drive."
   ]
  },
  {
   "cell_type": "markdown",
   "metadata": {
    "id": "E8opjb50dwFT"
   },
   "source": [
    "# Exercise Objective:\n",
    "\n",
    "In this exercise, you will use the WhiteRabbit tool to perform data profiling on the MIMIC-IV demo OMOP dataset.\n",
    "This will help you understand the dataset's structure and prepare it for further analysis tasks.\n",
    "\n"
   ]
  },
  {
   "cell_type": "markdown",
   "metadata": {
    "id": "4NMMDw7Ug145"
   },
   "source": [
    "\n",
    "## Introduction to WhiteRabbit:\n",
    "\n",
    "WhiteRabbit is a data profiling and ETL (Extract, Transform, Load) tool developed by OHDSI. It helps explore\n",
    "and understand healthcare databases, identify data issues, and create ETL specifications for mapping to the OMOP Common Data Model.\n",
    "Key features include database scanning, generating scan reports, and assisting with ETL specifications.\n",
    "\n",
    "Reference: [WhiteRabbit GitHub](https://github.com/OHDSI/WhiteRabbit/releases/tag/v1.0.0-RC2)\n"
   ]
  },
  {
   "cell_type": "markdown",
   "metadata": {
    "id": "5HZLDOfiLSaS"
   },
   "source": [
    "## MIMIC-IV Demo OMOP Dataset\n",
    "\n",
    "This dataset contains de-identified health records from the MIMIC-IV database, converted into the OMOP Common Data Model format. It is designed for demonstrating the use of the OMOP CDM with real-world healthcare data. The dataset includes various medical records suitable for research and educational purposes.\n",
    "\n",
    "Reference: PhysioNet: https://physionet.org/content/mimic-iv-demo-omop/0.9/\n"
   ]
  },
  {
   "cell_type": "markdown",
   "metadata": {
    "id": "unK8d3X-gtxM"
   },
   "source": [
    "\n",
    "## Step 1. Downloading and Setting Up WhiteRabbit:\n",
    "\n",
    "First, download and decompress the \"WhiteRabbit version 1.0.0 release candidate 2 Pre-release.\"  \n",
    "Here we use the MacOS, Linux binary ``  \n",
    "(The WindowsOS command is `/content/WhiteRabbit_v1.0.0-rc2/bin/whiteRabbit.bat`)"
   ]
  },
  {
   "cell_type": "code",
   "execution_count": null,
   "metadata": {
    "colab": {
     "base_uri": "https://localhost:8080/"
    },
    "id": "Tu4T1XghdzE7",
    "outputId": "e20165cb-d91e-4f2a-f37d-601ae5fa7477",
    "vscode": {
     "languageId": "r"
    }
   },
   "outputs": [
    {
     "name": "stderr",
     "output_type": "stream",
     "text": [
      "Installing package into ‘/usr/local/lib/R/site-library’\n",
      "(as ‘lib’ is unspecified)\n",
      "\n",
      "also installing the dependency ‘bitops’\n",
      "\n",
      "\n"
     ]
    },
    {
     "name": "stdout",
     "output_type": "stream",
     "text": [
      "WhiteRabbit downloaded and unzipped successfully!\n"
     ]
    }
   ],
   "source": [
    "install.packages(\"RCurl\")\n",
    "library(RCurl)\n",
    "\n",
    "download.file(\"https://github.com/OHDSI/WhiteRabbit/releases/download/v1.0.0-RC2/WhiteRabbit_v1.0.0-rc2.zip\", destfile = \"WhiteRabbit.zip\")\n",
    "system(\"unzip WhiteRabbit.zip\")\n",
    "\n",
    "if (file.exists(\"./WhiteRabbit_v1.0.0-rc2\")) {\n",
    "  cat(\"WhiteRabbit downloaded and unzipped successfully!\\n\")\n",
    "} else {\n",
    "  cat(\"Failed to download or unzip WhiteRabbit. Please check the URL and file paths.\\n\")\n",
    "}"
   ]
  },
  {
   "cell_type": "markdown",
   "metadata": {
    "id": "CIHY2cG9gl5J"
   },
   "source": [
    "## Step 2. Downloading the MIMIC-IV Demo OMOP Dataset:\n",
    "\n",
    "We will download the dataset and unzip the file using the following commands:"
   ]
  },
  {
   "cell_type": "code",
   "execution_count": null,
   "metadata": {
    "colab": {
     "base_uri": "https://localhost:8080/"
    },
    "id": "WT_Z-wPteUnA",
    "outputId": "8732ca24-b67f-4e9c-e082-9eac1492898b",
    "vscode": {
     "languageId": "r"
    }
   },
   "outputs": [
    {
     "name": "stdout",
     "output_type": "stream",
     "text": [
      "Dataset downloaded and unzipped successfully!\n"
     ]
    }
   ],
   "source": [
    "download.file(\"https://physionet.org/static/published-projects/mimic-iv-demo-omop/mimic-iv-demo-data-in-the-omop-common-data-model-0.9.zip\", destfile = \"MIMIC-IV-Demo.zip\")\n",
    "unzip(\"MIMIC-IV-Demo.zip\")\n",
    "\n",
    "if (file.exists(\"./mimic-iv-demo-data-in-the-omop-common-data-model-0.9\")) {\n",
    "  cat(\"Dataset downloaded and unzipped successfully!\\n\")\n",
    "} else {\n",
    "  cat(\"Failed to download or unzip the dataset. Please check the URL and file paths.\\n\")\n",
    "}"
   ]
  },
  {
   "cell_type": "markdown",
   "metadata": {
    "id": "TaSfdhb-NKYu"
   },
   "source": [
    "## Step 3. Writing an INI File for WhiteRabbit\n",
    "\n",
    "To use the WhiteRabbit command line tools, we need an INI file. Below is the original template for reference:\n",
    "\n",
    "```ini\n",
    "# Usage: dist/bin/whiteRabbit -ini <ini_file_path>\n",
    "WORKING_FOLDER = /users/joe                   # Path to the folder where all output will be written\n",
    "DATA_TYPE = PostgreSQL                        # \"Delimited text files\", \"MySQL\", \"Oracle\", \"SQL Server\", \"PostgreSQL\", \"MS Access\", \"Redshift\", \"BigQuery\", \"Azure\", \"Teradata\", \"SAS7bdat\"\n",
    "SERVER_LOCATION = 127.0.0.1/data_base_name    # Name or address of the server. For Postgres, add the database name\n",
    "USER_NAME = joe                               # User name for the database\n",
    "PASSWORD = supersecret                        # Password for the database\n",
    "DATABASE_NAME = schema_name                   # Name of the data schema used\n",
    "DELIMITER = ,                                 # The delimiter that separates values \",\" or \"tab\"\n",
    "TABLES_TO_SCAN = *                            # Comma-delimited list of table names to scan. Use \"*\" (asterix) to include all tables in the database\n",
    "SCAN_FIELD_VALUES = yes                       # Include the frequency of field values in the scan report? \"yes\" or \"no\"\n",
    "MIN_CELL_COUNT = 5                            # Minimum frequency for a field value to be included in the report\n",
    "MAX_DISTINCT_VALUES = 1000                    # Maximum number of distinct values per field to be reported\n",
    "ROWS_PER_TABLE = 100000                       # Maximum number of rows per table to be scanned for field values\n",
    "CALCULATE_NUMERIC_STATS = no                  # Include average, standard deviation and quartiles in the scan report? \"yes\" or \"no\"\n",
    "NUMERIC_STATS_SAMPLER_SIZE = 500              # Maximum number of rows used to calculate numeric statistics\n",
    "```\n",
    "\n",
    "For our scan, we need the following options:\n",
    "\n",
    "- `WORKING_FOLDER`: Path where output will be written.\n",
    "- `DATA_TYPE`: Set to \"Delimited text files\".\n",
    "- `DELIMITER`: The delimiter separating values, e.g., a comma.\n",
    "- `TABLES_TO_SCAN`: Set to \"person.csv,measurement.csv\" to scan only the person and measurement tables (use \"*\" to scan all).\n",
    "- `SCAN_FIELD_VALUES`: Set to \"yes\" to include the frequency of field values.\n",
    "- `MIN_CELL_COUNT`: Set the minimum frequency for a field value to be included in the report.\n",
    "- `MAX_DISTINCT_VALUES`: Set the maximum number of distinct values per field.\n",
    "- `ROWS_PER_TABLE`: Set the maximum number of rows per table to scan.\n",
    "- `CALCULATE_NUMERIC_STATS`: Set to \"yes\" to include numeric statistics.\n",
    "- `NUMERIC_STATS_SAMPLER_SIZE`: Set the number of rows used for calculating numeric statistics.\n",
    "\n",
    "We do not need to specify `SERVER_LOCATION`, `USER_NAME`, `PASSWORD`, or `DATABASE_NAME` since we are using delimited text files."
   ]
  },
  {
   "cell_type": "code",
   "execution_count": null,
   "metadata": {
    "colab": {
     "base_uri": "https://localhost:8080/"
    },
    "id": "PMDcHPHJIbs7",
    "outputId": "1f94481b-c8a3-49d8-904c-722dc02964cc",
    "vscode": {
     "languageId": "r"
    }
   },
   "outputs": [
    {
     "name": "stdout",
     "output_type": "stream",
     "text": [
      "INI file created successfully. Path: '/content/mimic-iv-demo.ini'\n"
     ]
    }
   ],
   "source": [
    "ini_content <- \"\n",
    "WORKING_FOLDER = /content/mimic-iv-demo-data-in-the-omop-common-data-model-0.9/1_omop_data_csv\n",
    "DATA_TYPE = Delimited text files\n",
    "DELIMITER = ,\n",
    "TABLES_TO_SCAN = person.csv,measurement.csv\n",
    "SCAN_FIELD_VALUES = yes\n",
    "MIN_CELL_COUNT = 5\n",
    "MAX_DISTINCT_VALUES = 1000\n",
    "ROWS_PER_TABLE = 100000\n",
    "CALCULATE_NUMERIC_STATS = yes\n",
    "NUMERIC_STATS_SAMPLER_SIZE = 500\n",
    "\"\n",
    "writeLines(ini_content, \"/content/mimic-iv-demo.ini\")\n",
    "\n",
    "cat(\"INI file created successfully. Path: '/content/mimic-iv-demo.ini'\\n\")\n"
   ]
  },
  {
   "cell_type": "markdown",
   "metadata": {
    "id": "6v4dEx6LfF_q"
   },
   "source": [
    "## Step 4. Running WhiteRabbit to Generate Scan Report\n",
    "\n",
    "Now, use the WhiteRabbit tool to scan the dataset as specified in your INI file and generate a report.\n"
   ]
  },
  {
   "cell_type": "code",
   "execution_count": null,
   "metadata": {
    "colab": {
     "base_uri": "https://localhost:8080/",
     "height": 104
    },
    "id": "Nnxh-4HcfY1o",
    "outputId": "c5dd066c-13ae-4643-a4fa-1222646d5f0f",
    "vscode": {
     "languageId": "r"
    }
   },
   "outputs": [
    {
     "data": {
      "text/html": [
       "<style>\n",
       ".list-inline {list-style: none; margin:0; padding: 0}\n",
       ".list-inline>li {display: inline-block}\n",
       ".list-inline>li:not(:last-child)::after {content: \"\\00b7\"; padding: 0 .5ex}\n",
       "</style>\n",
       "<ol class=list-inline><li>'Jul 23, 2024, 8:45:07 PM\\tStarted new scan of 2 tables...'</li><li>'Jul 23, 2024, 8:45:07 PM\\tScanning table /content/mimic-iv-demo-data-in-the-omop-common-data-model-0.9/1_omop_data_csv/person.csv'</li><li>'Jul 23, 2024, 8:45:07 PM\\tScanning table /content/mimic-iv-demo-data-in-the-omop-common-data-model-0.9/1_omop_data_csv/measurement.csv'</li><li>'Jul 23, 2024, 8:45:10 PM\\tGenerating scan report'</li><li>'Jul 23, 2024, 8:45:15 PM\\tScan report generated: /content/mimic-iv-demo-data-in-the-omop-common-data-model-0.9/1_omop_data_csv/ScanReport.xlsx'</li></ol>\n"
      ],
      "text/latex": [
       "\\begin{enumerate*}\n",
       "\\item 'Jul 23, 2024, 8:45:07 PM\\textbackslash{}tStarted new scan of 2 tables...'\n",
       "\\item 'Jul 23, 2024, 8:45:07 PM\\textbackslash{}tScanning table /content/mimic-iv-demo-data-in-the-omop-common-data-model-0.9/1\\_omop\\_data\\_csv/person.csv'\n",
       "\\item 'Jul 23, 2024, 8:45:07 PM\\textbackslash{}tScanning table /content/mimic-iv-demo-data-in-the-omop-common-data-model-0.9/1\\_omop\\_data\\_csv/measurement.csv'\n",
       "\\item 'Jul 23, 2024, 8:45:10 PM\\textbackslash{}tGenerating scan report'\n",
       "\\item 'Jul 23, 2024, 8:45:15 PM\\textbackslash{}tScan report generated: /content/mimic-iv-demo-data-in-the-omop-common-data-model-0.9/1\\_omop\\_data\\_csv/ScanReport.xlsx'\n",
       "\\end{enumerate*}\n"
      ],
      "text/markdown": [
       "1. 'Jul 23, 2024, 8:45:07 PM\\tStarted new scan of 2 tables...'\n",
       "2. 'Jul 23, 2024, 8:45:07 PM\\tScanning table /content/mimic-iv-demo-data-in-the-omop-common-data-model-0.9/1_omop_data_csv/person.csv'\n",
       "3. 'Jul 23, 2024, 8:45:07 PM\\tScanning table /content/mimic-iv-demo-data-in-the-omop-common-data-model-0.9/1_omop_data_csv/measurement.csv'\n",
       "4. 'Jul 23, 2024, 8:45:10 PM\\tGenerating scan report'\n",
       "5. 'Jul 23, 2024, 8:45:15 PM\\tScan report generated: /content/mimic-iv-demo-data-in-the-omop-common-data-model-0.9/1_omop_data_csv/ScanReport.xlsx'\n",
       "\n",
       "\n"
      ],
      "text/plain": [
       "[1] \"Jul 23, 2024, 8:45:07 PM\\tStarted new scan of 2 tables...\"                                                                                     \n",
       "[2] \"Jul 23, 2024, 8:45:07 PM\\tScanning table /content/mimic-iv-demo-data-in-the-omop-common-data-model-0.9/1_omop_data_csv/person.csv\"             \n",
       "[3] \"Jul 23, 2024, 8:45:07 PM\\tScanning table /content/mimic-iv-demo-data-in-the-omop-common-data-model-0.9/1_omop_data_csv/measurement.csv\"        \n",
       "[4] \"Jul 23, 2024, 8:45:10 PM\\tGenerating scan report\"                                                                                              \n",
       "[5] \"Jul 23, 2024, 8:45:15 PM\\tScan report generated: /content/mimic-iv-demo-data-in-the-omop-common-data-model-0.9/1_omop_data_csv/ScanReport.xlsx\""
      ]
     },
     "metadata": {},
     "output_type": "display_data"
    },
    {
     "data": {
      "text/html": [
       "TRUE"
      ],
      "text/latex": [
       "TRUE"
      ],
      "text/markdown": [
       "TRUE"
      ],
      "text/plain": [
       "[1] TRUE"
      ]
     },
     "metadata": {},
     "output_type": "display_data"
    },
    {
     "name": "stdout",
     "output_type": "stream",
     "text": [
      "Scan report generated and moved successfully. Available at './mimic-iv-demo_ScanReport.xlsx'\n"
     ]
    }
   ],
   "source": [
    "system(paste(\"WhiteRabbit_v1.0.0-rc2/bin/whiteRabbit -ini ./mimic-iv-demo.ini\"), intern = TRUE)\n",
    "file.rename(\"./mimic-iv-demo-data-in-the-omop-common-data-model-0.9/1_omop_data_csv/ScanReport.xlsx\", \"./mimic-iv-demo_ScanReport.xlsx\")\n",
    "\n",
    "cat(\"Scan report generated and moved successfully. Available at './mimic-iv-demo_ScanReport.xlsx'\\n\")"
   ]
  },
  {
   "cell_type": "markdown",
   "metadata": {
    "id": "dxkdpA83GHzF"
   },
   "source": [
    "**Next Steps:**\n",
    "\n",
    "The scan report is now available in your current directory as `./mimic-iv-demo_ScanReport.xlsx`. Download this file to your local machine to explore it further:\n",
    "\n",
    "**Access Online Version:**\n",
    "\n",
    "If you prefer to view a precompiled scan report online, you explore this Google Sheets Document: Here's a [link to a mimic-iv-demo_ScanReport.xlsx](https://docs.google.com/spreadsheets/d/1LNKoadpKGuhHHIDxfpA36CM-0vMNzxpbHjzsf0JOPgo/edit?usp=sharing)."
   ]
  }
 ],
 "metadata": {
  "colab": {
   "provenance": []
  },
  "kernelspec": {
   "display_name": "R",
   "name": "ir"
  },
  "language_info": {
   "name": "R"
  }
 },
 "nbformat": 4,
 "nbformat_minor": 0
}
