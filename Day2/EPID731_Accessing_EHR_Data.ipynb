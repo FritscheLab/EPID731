{
  "cells": [
    {
      "cell_type": "markdown",
      "metadata": {},
      "source": [
        "<a href=\"https://colab.research.google.com/github/FritscheLab/EPID731/blob/main/Day2/EPID731_Accessing_EHR_Data.ipynb\" target=\"_parent\"><img src=\"https://colab.research.google.com/assets/colab-badge.svg\" alt=\"Open In Colab\"/></a>"
      ]
    },
    {
      "cell_type": "markdown",
      "metadata": {
        "id": "-GVh3xlmCfDS"
      },
      "source": [
        "# EPID731 - Accessing EHR Data"
      ]
    },
    {
      "cell_type": "markdown",
      "metadata": {
        "id": "vxrShvvyF30j"
      },
      "source": [
        "## Before you start: Create a copy of this notebook\n",
        "\n",
        "1. Go to the `File` menu in the top left corner and select `Save a copy in  Drive` (If you can't see the File menu, go to the top right and press the **&bigvee;** button.\n",
        "2. Close the original file `EPID731_Accessing_EHR_Data.ipynb` and follow the exercise in `Copy of EPID731_Accessing_EHR_Data.ipynb`"
      ]
    },
    {
      "cell_type": "markdown",
      "metadata": {
        "id": "9D7LL3hSiG2P"
      },
      "source": [
        "## Exercise Overview: Identifying Individuals with Concussion and Aspirin Use\n",
        "\n",
        "This exercise involves working with the Eunomia database, a simulated medical dataset. Our goal is to identify individuals who experienced a concussion and subsequently took aspirin within a month of the injury. We will approach this through two methodologies:\n",
        "\n",
        "1. **Data Combination in R**: We will download individual datasets, merge them in R, and apply filters to extract the necessary information.\n",
        "2. **Single SQL Query**: We will construct and execute a SQL query that performs the data combination and filtering directly on the database server.\n",
        "\n",
        "### Learning Objectives\n",
        "\n",
        "- Develop proficiency in querying databases using R.\n",
        "- Understand the techniques for merging data from multiple tables.\n",
        "- Learn to apply filters and manipulate data using both R and SQL.\n"
      ]
    },
    {
      "cell_type": "markdown",
      "metadata": {
        "id": "7x9AgrLewqLV"
      },
      "source": [
        "## Part 1: Setting Up the Environment\n",
        "\n",
        "### Configuring the Google Colab Environment\n",
        "\n",
        "Execute the following steps to prepare your Google Colab environment for the tasks ahead:"
      ]
    },
    {
      "cell_type": "code",
      "execution_count": null,
      "metadata": {
        "collapsed": true,
        "id": "vcyC30R2lo25",
        "vscode": {
          "languageId": "r"
        }
      },
      "outputs": [],
      "source": [
        "# Set environment variables\n",
        "Sys.setenv(JAVA_HOME = '/usr/lib/jvm/java-11-openjdk-amd64')\n",
        "Sys.setenv(PATH = paste(Sys.getenv(\"PATH\"), \"/usr/lib/jvm/java-11-openjdk-amd64/bin\", sep = \":\"))\n",
        "Sys.setenv(LD_LIBRARY_PATH = paste(Sys.getenv(\"LD_LIBRARY_PATH\"), \"/usr/lib/jvm/java-11-openjdk-amd64/lib/server\", sep = \":\"))\n",
        "\n",
        "# Check if symbolic link for libjvm.so exists, if not, create it\n",
        "if (!file.exists(\"/usr/lib/libjvm.so\")) {\n",
        "    system2(\"ln\", c(\"-s\", \"/usr/lib/jvm/java-11-openjdk-amd64/lib/server/libjvm.so\", \"/usr/lib/libjvm.so\"), stdout = TRUE, stderr = TRUE)\n",
        "}\n",
        "\n",
        "# Run javareconf to ensure R is configured to use the specified Java installation\n",
        "system2('R', 'CMD javareconf', stdout = TRUE, stderr = TRUE)"
      ]
    },
    {
      "cell_type": "markdown",
      "metadata": {
        "id": "pBmkselMlrYs"
      },
      "source": [
        "### Installing and Loading Required Libraries\n",
        "\n",
        "Ensure all necessary R libraries are installed and loaded. This process may take ~5 minutes:"
      ]
    },
    {
      "cell_type": "code",
      "execution_count": null,
      "metadata": {
        "id": "i-_6l9SQUbTs",
        "vscode": {
          "languageId": "r"
        }
      },
      "outputs": [],
      "source": [
        "# Install rJava\n",
        "install.packages(\"rJava\")\n",
        "\n",
        "# Install other required packages\n",
        "install.packages(c(\"remotes\", \"dplyr\", \"lubridate\", \"knitr\", \"DatabaseConnector\",\n",
        "  \"plogr\", \"RSQLite\", \"triebeard\", \"SqlRender\", \"urltools\", \"checkmate\"))\n",
        "remotes::install_github(\"ohdsi/Eunomia\", ref = \"v1.0.0\")\n",
        "\n",
        "# Load libraries\n",
        "library(rJava)\n",
        "library(DatabaseConnector)\n",
        "library(dplyr)\n",
        "library(lubridate)\n",
        "library(knitr)"
      ]
    },
    {
      "cell_type": "markdown",
      "metadata": {
        "id": "z5llUAu7izek"
      },
      "source": [
        "### Establishing a Database Connection\n",
        "\n",
        "We will establish a connection to the local Eunomia database:"
      ]
    },
    {
      "cell_type": "code",
      "execution_count": null,
      "metadata": {
        "id": "o5cB6fvYi02o",
        "vscode": {
          "languageId": "r"
        }
      },
      "outputs": [],
      "source": [
        "# Establish a connection to the Eunomia database\n",
        "connectionDetails <- Eunomia::getEunomiaConnectionDetails()\n",
        "connection <- connect(connectionDetails)\n",
        "\n",
        "# List available tables in the database\n",
        "tables <- dbListTables(connection)\n",
        "cat(\"Available tables in the database:\\n\")\n",
        "print(tables)"
      ]
    },
    {
      "cell_type": "markdown",
      "metadata": {
        "id": "ei3dyQXk4KFD"
      },
      "source": [
        "### Additional Descriptions for Database Tables:\n",
        "\n",
        "Quick overview of the tables available in the Eunomia dataset:\n",
        "\n",
        "| Table Name               | Description                                                                 |\n",
        "|--------------------------|-----------------------------------------------------------------------------|\n",
        "| `care_site`              | Information about care sites like hospitals and clinics.                    |\n",
        "| `cdm_source`             | Source details of the CDM data.                                             |\n",
        "| `cohort`                 | Defines groups of persons for observational studies.                        |\n",
        "| `cohort_attribute`       | Attributes associated with specific cohorts.                                |\n",
        "| **`concept`**                | **Standardized medical concepts.**                                          |\n",
        "| `concept_ancestor`       | Hierarchical relationships between concepts.                                |\n",
        "| `concept_class`          | Classification of concepts.                                                 |\n",
        "| `concept_relationship`   | Relationships between different concepts.                                   |\n",
        "| `concept_synonym`        | Synonyms for medical concepts.                                              |\n",
        "| `condition_era`          | Aggregated periods of condition occurrences.                                |\n",
        "| **`condition_occurrence`**   | **Individual instances of conditions.**                                     |\n",
        "| `cost`                   | Financial data related to healthcare events.                                |\n",
        "| `death`                  | Records of death details.                                                   |\n",
        "| `device_exposure`        | Records of device usage in patient care.                                    |\n",
        "| `domain`                 | Various domains of medical concepts.                                        |\n",
        "| `dose_era`               | Periods of consistent dosages of medication.                                |\n",
        "| `drug_era`               | Aggregated periods of drug exposures.                                       |\n",
        "| **`drug_exposure`**          | **Individual instances of drug usage.**                                     |\n",
        "| `drug_strength`          | Strength details of drugs.                                                  |\n",
        "| `fact_relationship`      | Relationships between various facts in the dataset.                         |\n",
        "| `location`               | Geographical information of persons.                                        |\n",
        "| `measurement`            | Records of measurements taken, such as lab results.                         |\n",
        "| `metadata`               | Metadata related to the dataset.                                            |\n",
        "| `note`                   | Unstructured clinical notes.                                                |\n",
        "| `note_nlp`               | NLP-processed clinical notes.                                               |\n",
        "| `observation`            | Observational data not classified as physical exams.                        |\n",
        "| `observation_period`     | Periods during which observations were made.                                |\n",
        "| `payer_plan_period`      | Periods of insurance coverage for patients.                                 |\n",
        "| **`person`**                 | **Demographic details of individuals in the dataset.**                      |\n",
        "| `procedure_occurrence`   | Records of medical procedures performed.                                    |\n",
        "| `provider`               | Information about healthcare providers.                                     |\n",
        "| `relationship`           | Relationships between various medical concepts.                             |\n",
        "| `source_to_concept_map`  | Mapping from source codes to standard concepts.                             |\n",
        "| `specimen`               | Records of biological specimens.                                            |\n",
        "| `visit_detail`           | Detailed records of individual visits.                                      |\n",
        "| `visit_occurrence`       | Records of visit occurrences.                                               |\n",
        "| **`vocabulary`**            | **Information about the standardized vocabulary used in the dataset.**      |"
      ]
    },
    {
      "cell_type": "markdown",
      "metadata": {
        "id": "QQB-4sYfGau_"
      },
      "source": [
        "### Displaying Top 5 Entries from Key Tables\n",
        "\n",
        "To better understand the data we will be working with, it is crucial to examine samples from key tables in the Eunomia database. Below, we provide R code to query and display the top 5 entries from several relevant tables. This step will help you visualize the type of data available and practice querying with R.\n",
        "\n",
        "#### R Code to Query and Display Data\n"
      ]
    },
    {
      "cell_type": "code",
      "execution_count": null,
      "metadata": {
        "id": "3zhs-9f_5uDG",
        "vscode": {
          "languageId": "r"
        }
      },
      "outputs": [],
      "source": [
        "# Function to query and print the top 5 entries of a specified table\n",
        "print_top_5_entries <- function(table_name, connection) {\n",
        "  cat(\"\\n### Top 5 entries from the\", table_name, \"table:\\n\")\n",
        "\n",
        "  # Construct the SQL query to retrieve the top 5 entries\n",
        "  query <- sprintf(\"SELECT * FROM %s LIMIT 5;\", table_name)\n",
        "\n",
        "  # Execute the query and fetch the results\n",
        "  data <- dbGetQuery(connection, query)\n",
        "\n",
        "  # Display the data in a user-friendly format\n",
        "  if (nrow(data) == 0) {\n",
        "    cat(\"No data available in this table.\\n\")\n",
        "  } else {\n",
        "    print(kable(data, format = \"markdown\"))\n",
        "  }\n",
        "}\n",
        "\n",
        "# List of tables for which we want to display the top 5 entries\n",
        "tables_to_use <- c(\"concept\", \"condition_occurrence\", \"drug_exposure\", \"person\", \"vocabulary\")\n",
        "\n",
        "# Execute the function for each table and print the results\n",
        "for (table in tables_to_use) {\n",
        "  print_top_5_entries(table, connection)\n",
        "}"
      ]
    },
    {
      "cell_type": "markdown",
      "metadata": {
        "id": "XEjo_nhVHGbd"
      },
      "source": [
        "### Practical Tips\n",
        "\n",
        "- **Ensure Database Connection**: Before running the code, verify that the `connection` object is correctly established to avoid connection errors.\n",
        "- **Handling Different Data**: Depending on the structure and size of your data tables, you may need to adjust the SQL query to handle specific data types or constraints.\n"
      ]
    },
    {
      "cell_type": "markdown",
      "metadata": {
        "id": "Mohkux-Ni3o6"
      },
      "source": [
        "## Part 2: Method 1 - Combining Data in R\n",
        "\n",
        "In this section, we will demonstrate how to connect to and interact with a SQL database using R. This involves establishing a database connection, querying data, and subsequently combining these datasets for further analysis.\n",
        "\n",
        "### Establishing a Database Connection and Querying the Database\n",
        "\n",
        "First, we establish a connection to the Eunomia database (\"Establishing a Database Connection\" above).\n",
        "\n",
        "Once the connection is set up, we can proceed to query data from the database. For our exercise, we are particularly interested in individuals who experienced a concussion and took aspirin within a month of their concussion.\n"
      ]
    },
    {
      "cell_type": "markdown",
      "metadata": {
        "id": "cvXet40UpOnF"
      },
      "source": [
        "\n",
        "#### Retrieve Person Data\n",
        "\n",
        "Let's start by retrieving relevant data from the `person` table."
      ]
    },
    {
      "cell_type": "code",
      "execution_count": null,
      "metadata": {
        "id": "mD-eEEz8i94L",
        "vscode": {
          "languageId": "r"
        }
      },
      "outputs": [],
      "source": [
        "# Reuse the connection setup code\n",
        "connectionDetails <- Eunomia::getEunomiaConnectionDetails()\n",
        "connection <- connect(connectionDetails)\n",
        "\n",
        "# SQL query to fetch data from the person table\n",
        "query_person <- \"\n",
        "  SELECT person_id, birth_datetime, gender_source_value\n",
        "  FROM person;\"\n",
        "person_data <- dbGetQuery(connection, query_person)\n",
        "head(person_data)  # Display the first few rows of the person data"
      ]
    },
    {
      "cell_type": "markdown",
      "metadata": {
        "id": "53il0hIYjZ9P"
      },
      "source": [
        "#### Retrieve Concussion and Drug Exposure Data\n",
        "\n",
        "Next, we fetch data regarding concussion occurrences and aspirin use.\n"
      ]
    },
    {
      "cell_type": "code",
      "execution_count": null,
      "metadata": {
        "id": "-GBz-E0MjbYk",
        "vscode": {
          "languageId": "r"
        }
      },
      "outputs": [],
      "source": [
        "# SQL query to fetch data on concussions\n",
        "query_concussion <- \"\n",
        "  SELECT co.person_id, co.condition_start_date, co.condition_end_date,\n",
        "         c.concept_name AS condition_name\n",
        "  FROM condition_occurrence AS co\n",
        "  JOIN concept AS c ON co.condition_concept_id = c.concept_id\n",
        "  WHERE LOWER(c.concept_name) LIKE '%concussion%';\"\n",
        "concussion_data <- dbGetQuery(connection, query_concussion)\n",
        "head(concussion_data)  # Display concussion data\n",
        "\n",
        "# SQL query to fetch data on aspirin use\n",
        "query_aspirin <- \"\n",
        "  SELECT de.person_id, de.drug_exposure_start_date, de.drug_exposure_end_date,\n",
        "         c.concept_name AS drug_name\n",
        "  FROM drug_exposure AS de\n",
        "  JOIN concept AS c ON de.drug_concept_id = c.concept_id\n",
        "  WHERE LOWER(c.concept_name) LIKE '%aspirin%';\"\n",
        "aspirin_data <- dbGetQuery(connection, query_aspirin)\n",
        "head(aspirin_data)  # Display aspirin data"
      ]
    },
    {
      "cell_type": "markdown",
      "metadata": {
        "id": "6a-JRV1gvaRE"
      },
      "source": [
        "### Combining Data in R\n",
        "\n",
        "With the data retrieved, we can now combine the datasets to find individuals who fit our criteria of having taken aspirin within 30 days following a concussion.\n"
      ]
    },
    {
      "cell_type": "code",
      "execution_count": null,
      "metadata": {
        "id": "AjDJ95-5vb8E",
        "vscode": {
          "languageId": "r"
        }
      },
      "outputs": [],
      "source": [
        "# Merging concussion and person data\n",
        "concussion_person_data <- merge(concussion_data, person_data, by = \"person_id\")\n",
        "\n",
        "# Merging the above with aspirin data\n",
        "full_data <- merge(concussion_person_data, aspirin_data, by = \"person_id\")\n",
        "\n",
        "# Filtering to find relevant cases\n",
        "relevant_cases <- full_data[\n",
        "  full_data$drug_exposure_start_date <= full_data$condition_start_date + 30 &\n",
        "  full_data$drug_exposure_end_date >= full_data$condition_start_date, ]\n",
        "\n",
        "\n",
        "head(relevant_cases)  # Display the relevant cases"
      ]
    },
    {
      "cell_type": "markdown",
      "metadata": {
        "id": "TJbM95chwwpE"
      },
      "source": [
        "## Part 3: Method 2 - Combining Data in SQL\n",
        "\n",
        "In this part, we will utilize SQL to perform data combination and filtering directly within the database, which can be more efficient for large datasets. This method reduces data transfer between the database and the application layer and takes advantage of the database's optimized query processing capabilities."
      ]
    },
    {
      "cell_type": "markdown",
      "metadata": {
        "id": "2TBNVqicpSDY"
      },
      "source": [
        "### Step 1: SQL Query to Fetch Data\n",
        "\n",
        "We will construct a single SQL query that joins multiple tables."
      ]
    },
    {
      "cell_type": "code",
      "execution_count": null,
      "metadata": {
        "id": "yHf-ADVow5Bf",
        "vscode": {
          "languageId": "r"
        }
      },
      "outputs": [],
      "source": [
        "query_concussion_person_drug <- \"\n",
        "  SELECT co.person_id, co.condition_start_date, co.condition_end_date,\n",
        "    c.concept_name AS condition_name, p.birth_datetime, p.gender_source_value,\n",
        "    de.drug_exposure_start_date, de.drug_exposure_end_date,\n",
        "    c2.concept_name AS drug_name\n",
        "  FROM condition_occurrence AS co\n",
        "  JOIN concept AS c ON co.condition_concept_id = c.concept_id\n",
        "  JOIN person AS p ON co.person_id = p.person_id\n",
        "  LEFT JOIN drug_exposure AS de ON co.person_id = de.person_id\n",
        "  LEFT JOIN concept AS c2 ON de.drug_concept_id = c2.concept_id\n",
        "  WHERE LOWER(c.concept_name) LIKE '%concussion%' AND\n",
        "    LOWER(c2.concept_name) LIKE '%aspirin%';\n",
        "\"\n",
        "concussion_person_drug_data <- dbGetQuery(connection, query_concussion_person_drug)\n",
        "head(concussion_person_drug_data)"
      ]
    },
    {
      "cell_type": "markdown",
      "metadata": {
        "id": "NHw2n-X3w-KY"
      },
      "source": [
        "### Step 2: Filtering for Overlap in R\n",
        "\n",
        "Next, apply the overlap conditions using base R functions:"
      ]
    },
    {
      "cell_type": "code",
      "execution_count": null,
      "metadata": {
        "id": "2kQElEuaxBjg",
        "vscode": {
          "languageId": "r"
        }
      },
      "outputs": [],
      "source": [
        "# Apply the filtering conditions using base R\n",
        "overlap_filtered <- concussion_person_drug_data[\n",
        "  concussion_person_drug_data$drug_exposure_start_date <= concussion_person_drug_data$condition_start_date + 30 &\n",
        "  concussion_person_drug_data$drug_exposure_end_date >= concussion_person_drug_data$condition_start_date, ]\n",
        "\n",
        "# Display the filtered results\n",
        "head(overlap_filtered)"
      ]
    },
    {
      "cell_type": "markdown",
      "metadata": {
        "id": "Tb-OcIh0xmE-"
      },
      "source": [
        "### Disconnecting from the Database\n",
        "\n",
        "Finally, disconnect from the database."
      ]
    },
    {
      "cell_type": "code",
      "execution_count": null,
      "metadata": {
        "id": "IlwobPLcxqWa",
        "vscode": {
          "languageId": "r"
        }
      },
      "outputs": [],
      "source": [
        "disconnect(connection)\n"
      ]
    },
    {
      "cell_type": "markdown",
      "metadata": {
        "id": "XYmWBwYPPAY2"
      },
      "source": []
    },
    {
      "cell_type": "markdown",
      "metadata": {
        "id": "9Et1PKeoxsK7"
      },
      "source": [
        "## Conclusion\n",
        "\n",
        "In this exercise, we've explored two methods for identifying individuals who had a concussion and took aspirin within a month of the concussion using the Eunomia database. We've learned to:\n",
        "\n",
        "- Connect to a SQL-based database using R.\n",
        "- Query and manipulate the extracted data in R.\n",
        "- Use SQL to perform complex queries directly on the database.\n",
        "\n",
        "By comparing these two methods, we understand the trade-offs between pulling data into R for manipulation versus performing the manipulations directly in the database.\n"
      ]
    },
    {
      "cell_type": "markdown",
      "metadata": {
        "id": "Uji_kZcACQCX"
      },
      "source": [
        "\n",
        "\n",
        "## Feel free to explore the dataset further:\n",
        "\n",
        "- Can you find individuals who took \"Acetaminophen\" within a month of a concussion?\n",
        "- Can you find individuals with a \"Suture open wound\" procedure data within a year before a concussion?"
      ]
    },
    {
      "cell_type": "markdown",
      "metadata": {
        "id": "xXP-SmGn1QkP"
      },
      "source": [
        "## Extra Assignment: Extracting Unique Drug Concepts from the Eunomia Database\n",
        "\n",
        "To prepare for the lab exercise on Thursday, we will extract all unique drug concepts from the Eunomia database and save the results to a CSV file. This data will be used to showcase how to harmonize and classify medications using a GPT API, while ensuring no PHI (Protected Health Information) is exported.\n",
        "\n",
        "Here are the steps for this task:\n",
        "\n",
        "1. **Query to Extract Unique Drug Concepts from the Eunomia database**:  \n",
        "   We will use the following SQL query to extract unique drug concepts from the `drug_exposure` table by joining it with the `concept` table.\n",
        "2. **Save and Store the Extracted Data:**  \n",
        "Save the extracted data to a CSV file and provide the file path for future reference."
      ]
    },
    {
      "cell_type": "code",
      "execution_count": null,
      "metadata": {
        "id": "craFvoExyk4j",
        "vscode": {
          "languageId": "r"
        }
      },
      "outputs": [],
      "source": [
        "%%R\n",
        "# Establish a connection to the Eunomia database\n",
        "connectionDetails <- Eunomia::getEunomiaConnectionDetails()\n",
        "connection <- connect(connectionDetails)\n",
        "\n",
        "# Define the query to extract unique drug concepts\n",
        "query_drugs <- \"\n",
        "  SELECT DISTINCT\n",
        "    de.drug_concept_id,\n",
        "    c.concept_name,\n",
        "    c.concept_code,\n",
        "    c.vocabulary_id AS source\n",
        "  FROM\n",
        "    drug_exposure de\n",
        "  JOIN\n",
        "    concept c ON de.drug_concept_id = c.concept_id\n",
        "  ORDER BY\n",
        "    c.concept_name;\"\n",
        "\n",
        "# Execute the query and store the results in drug_data\n",
        "drug_data <- dbGetQuery(connection, query_drugs)\n",
        "head(drug_data)\n",
        "\n",
        "# Save the concept data to a CSV file\n",
        "file_path <- \"unique_drug_concepts.csv\"\n",
        "write.csv(drug_data, file_path, row.names = FALSE)\n",
        "cat(\"The data of the unique drug concepts have been saved to:\", file_path)\n",
        "\n",
        "# Save the unique medication concept names to a text file\n",
        "file_path <- \"unique_drug_concept_names.txt\"\n",
        "write(drug_data$concept_name, file_path)\n",
        "cat(\"\\nThe unique drug concepts names have been saved to:\", file_path)\n",
        "\n",
        "# Disconnect from the database\n",
        "disconnect(connection)"
      ]
    }
  ],
  "metadata": {
    "colab": {
      "provenance": []
    },
    "kernelspec": {
      "display_name": "R",
      "name": "ir"
    },
    "language_info": {
      "name": "R"
    }
  },
  "nbformat": 4,
  "nbformat_minor": 0
}
