{
  "cells": [
    {
      "cell_type": "markdown",
      "metadata": {
        "id": "view-in-github",
        "colab_type": "text"
      },
      "source": [
        "<a href=\"https://colab.research.google.com/github/statgen/EPID731_2024/blob/main/EPID731_Medication_Classification_with_OpenAI_GPT_API.ipynb\" target=\"_parent\"><img src=\"https://colab.research.google.com/assets/colab-badge.svg\" alt=\"Open In Colab\"/></a>"
      ]
    },
    {
      "cell_type": "markdown",
      "metadata": {
        "id": "TjuuG3KrI_8d"
      },
      "source": [
        "# Harmonizing Medication Data with OpenAI GPT: Workshop\n",
        "\n",
        "Welcome to the workshop on using OpenAI GPT for harmonizing medication data. In this workshop, we will explore how to:\n",
        "1. Setting Up the Environment for Google Colab so we can use the OpenAI API\n",
        "2. Develop a powerful prompt to classify medications.\n",
        "3. Explore various parameters of the API that influence the model's performance.\n"
      ]
    },
    {
      "cell_type": "markdown",
      "metadata": {
        "id": "7bUDyncqIUnI"
      },
      "source": [
        "# Before you start: Create a copy of this notebook\n",
        "\n",
        "The original notebook is read-only, so please follow these steps to get a copy you can modify and interact with:\n",
        "\n",
        "1. Go to the **File** menu in the top left corner and select **Save a copy in Drive**.  \n",
        "(If you can't see the File menu, click the **^** button in the top right corner.)\n",
        "2. Close the tab with the original file `EPID731_Medication_Classification_with_OpenAI_GPT_API.ipynb`.\n",
        "3. Open and follow the exercise in your new copy, named  \n",
        "`Copy of EPID731_Medication_Classification_with_OpenAI_GPT_API.ipynb`, which is now saved in your Google Drive.\n"
      ]
    },
    {
      "cell_type": "markdown",
      "metadata": {
        "id": "JV3_pPBPW3_0"
      },
      "source": [
        "# Setup\n",
        "\n",
        "## Before you start: Create a copy of this notebook\n",
        "\n",
        "The original notebook is read-only, so please follow these steps:\n",
        "\n",
        "1. Go to the **File** menu in the top left corner and select **Save a copy in Drive**.\n",
        "   - (If you can't see the File menu, click the **^** button in the top right corner.)\n",
        "2. Close the tab with the original file `EPID731_Medication_Classification_with_OpenAI_GPT_API.ipynb`.\n",
        "3. Open and follow the exercise in your new copy, named `Copy of EPID731_Medication_Classification_with_OpenAI_GPT_API.ipynb`, which is now saved in your Google Drive.\n",
        "\n",
        "## Setting Up the Environment\n",
        "\n",
        "1. Configure our OpenAI API key\n",
        "2. Install the necessary libraries in Python & download the main function and examples\n",
        "\n"
      ]
    },
    {
      "cell_type": "markdown",
      "metadata": {
        "id": "mcewPxiPX9Yh"
      },
      "source": [
        "### 1. Configure API Key\n",
        "\n",
        "We will use the Secrets feature in Google Colab to securely store and access our API key.\n",
        "\n",
        "1. Click on the **key icon &#128273;** on the left sidebar of the Colab notebook.\n",
        "2. Add a new secret named `openai_api_key` with your OpenAI API key that you received by email as the value.\n",
        "3. Toggle the Notebook access from &#10008; to &#10004;\n",
        "4. Use the following code to access the secret in your notebook."
      ]
    },
    {
      "cell_type": "code",
      "execution_count": null,
      "metadata": {
        "collapsed": true,
        "id": "Ycm3Zv2vX_ZK"
      },
      "outputs": [],
      "source": [
        "from google.colab import userdata\n",
        "\n",
        "# Access the OpenAI API key from secrets\n",
        "api_key = userdata.get('openai_api_key')\n",
        "\n",
        "# Verify if the API key is fetched correctly\n",
        "if api_key:\n",
        "    print(\"API key fetched successfully!\")\n",
        "else:\n",
        "    print(\"Failed to fetch API key. Please ensure it is set correctly.\")"
      ]
    },
    {
      "cell_type": "markdown",
      "metadata": {
        "id": "AgCJDYu-U1vP"
      },
      "source": [
        "### 2. Install the necessary libraries in Python & download the main script and the prepared examples"
      ]
    },
    {
      "cell_type": "code",
      "execution_count": null,
      "metadata": {
        "collapsed": true,
        "id": "8tpczH-ecdwy"
      },
      "outputs": [],
      "source": [
        "# Install necessary python libraries\n",
        "!pip install openai pandas configparser\n",
        "!pip install tiktoken --only-binary :all:\n",
        "\n",
        "import configparser\n",
        "import openai\n",
        "import os\n",
        "from tiktoken import get_encoding\n",
        "\n",
        "# Initialize the tokenizer for GPT-2\n",
        "tokenizer = get_encoding(\"gpt2\")\n",
        "\n",
        "# Step 1: Check if the repository already exists\n",
        "if not os.path.exists('/content/EPID731_2024'):\n",
        "    # Step 1: Clone the repository\n",
        "    !git clone https://github.com/statgen/EPID731_2024.git\n",
        "    print(\"Repository cloned.\")\n",
        "\n",
        "# Step 2: Change directory to the cloned repository if not already in it\n",
        "target_directory = '/content/EPID731_2024/Day4'\n",
        "if os.getcwd() != target_directory:\n",
        "    os.chdir(target_directory)\n",
        "    print(f\"Changed directory to {target_directory}\")\n",
        "\n",
        "# Step 3: Add the scripts directory to the Python path\n",
        "import sys\n",
        "sys.path.append('/content/EPID731_2024/Day4/scripts')\n",
        "\n",
        "# Step 4: Execute the script to load its functions so we can use them below\n",
        "exec(open(\"/content/EPID731_2024/Day4/scripts/gpt_line_processor.py\").read())\n"
      ]
    },
    {
      "cell_type": "markdown",
      "metadata": {
        "id": "QXwShpiSm9Ot"
      },
      "source": [
        "# Using the OpenAI API\n",
        "\n",
        "Now, we should have everything in place to interact with the OpenAI GPT."
      ]
    },
    {
      "cell_type": "markdown",
      "metadata": {
        "id": "7Y0viOD2UO6b"
      },
      "source": [
        "## Check the connection to the OpenAI API\n",
        "\n",
        "In this example, we will check if we can access the OpenAI API and list the available models."
      ]
    },
    {
      "cell_type": "code",
      "execution_count": null,
      "metadata": {
        "id": "9A7vrI8TWk1A"
      },
      "outputs": [],
      "source": [
        "from openai import OpenAI\n",
        "import os\n",
        "\n",
        "client = OpenAI(\n",
        "    api_key = api_key\n",
        ")\n",
        "\n",
        "# Obtain list of available models\n",
        "models = client.models.list()\n",
        "\n",
        "# Print the list of models in a nicer format\n",
        "print(\"Available Models:\")\n",
        "for model in models.data:\n",
        "    print(f\"Model ID: {model.id}\")"
      ]
    },
    {
      "cell_type": "markdown",
      "source": [
        "\n",
        "\n",
        "We can compare the performance of four different models (price in USD):\n",
        "\n",
        "| Model                  | Input Price per Token | Output Price per Token |\n",
        "|------------------------|-----------------------|------------------------|\n",
        "| gpt-3.5-turbo-0125     | 0.0000005             | 0.0000015              |\n",
        "| gpt-4-turbo-2024-04-09 | 0.00001               | 0.00003                |\n",
        "| gpt-4o-2024-05-13      | 0.000005              | 0.000015               |\n",
        "| gpt-4o-mini-2024-07-18      | 0.00000015              | 0.0000006               |\n"
      ],
      "metadata": {
        "id": "se6nn1LyDwSg"
      }
    },
    {
      "cell_type": "markdown",
      "metadata": {
        "id": "gi3nL2uEg048"
      },
      "source": [
        "##Check the Chat Completion function\n",
        "\n",
        "Next, we will try the Chat Completion function of the OpenAI API."
      ]
    },
    {
      "cell_type": "code",
      "execution_count": null,
      "metadata": {
        "id": "zE87p5rhfz2W"
      },
      "outputs": [],
      "source": [
        "import openai\n",
        "\n",
        "# Set your OpenAI API key\n",
        "openai.api_key = api_key\n",
        "\n",
        "# Define the system and user messages\n",
        "system_message = \"You are an exceptionally funny stand-up comedian.\"\n",
        "user_message = \"Tell me a new joke that is based on observational humor.\"\n",
        "\n",
        "# Call the OpenAI GPT model\n",
        "response = client.chat.completions.create(\n",
        "    model=\"gpt-4-turbo-2024-04-09\",\n",
        "    messages=[\n",
        "        {\"role\": \"system\", \"content\": system_message},\n",
        "        {\"role\": \"user\", \"content\": user_message}\n",
        "    ],\n",
        "    temperature=0.7,\n",
        "    max_tokens=150,\n",
        "    top_p=1.0,\n",
        "    frequency_penalty=0.0,\n",
        "    presence_penalty=0.0\n",
        ")\n",
        "\n",
        "# Print the response from the model\n",
        "output = response.choices[0].message.content.strip()\n",
        "print(\"Response:\", output)"
      ]
    },
    {
      "cell_type": "markdown",
      "source": [
        "## Prompt Engineering Exercise\n",
        "\n",
        "In this exercise, you will explore how to use and modify system prompts and parameters to interact with OpenAI's GPT model. The goal is to understand how different prompts and settings influence the responses generated by the model.\n",
        "\n",
        "### System Messages:\n",
        "\n",
        "#### Basic Prompt (`system_prompt_1.txt`)\n",
        "```\n",
        "Be a helpful assistant.\n",
        "```\n",
        "\n",
        "#### Simple Prompt with Instructions (`system_prompt_2.txt`)\n",
        "```\n",
        "Classify the medication by providing its generic name, primary use, and its pharmacological classification.\n",
        "```\n",
        "\n",
        "#### Simple Prompt with Instructions and additional Context (`system_prompt_3.txt`)\n",
        "```\n",
        "Classify the medication by providing its generic name, primary use, and its pharmacological classification. Ensure to align the classification with the following blood pressure medication classes: Diuretic, Beta-blocker, ACE inhibitor, Angiotensin II receptor blocker, Calcium channel blocker, Alpha-blocker, Alpha-2 receptor agonist, Combined alpha and beta-blocker, and Vasodilator.\n",
        "```\n",
        "\n",
        "#### Further Prompts:\n",
        "You can find the additional prompt examples  (`system_prompt_4.txt` to  `system_prompt_9.txt`) here: `/content/EPID731_2024/Day4/prompts`\n",
        "\n",
        "\n",
        "### Try these system prompts in the code cell below.\n",
        "\n",
        "You can try various \"medications\":\n",
        "- Hydrochlorothiazide\n",
        "- Hygroton\n",
        "- Diuril\n",
        "- Hyzaar\n",
        "- Augmentin  \n",
        "\n",
        "Or try even non-sensical input like:\n",
        "- Cardioventrix\n",
        "- Nutella\n",
        "\n",
        "### Instructions for Experimentation:\n",
        "\n",
        "1. **Modify the System Message:**\n",
        "   - Change `system_message = \"Be a helpful assistant.\"` to any of the provided examples or create your own.\n",
        "   - Example: `system_message = \"Classify the medication by providing its generic name, primary use, and its pharmacological classification.\"`\n",
        "\n",
        "2. **Experiment with Different Parameters:**\n",
        "   - Adjust the `temperature` parameter to see how it affects the creativity of the responses.\n",
        "     - Higher values (closer to 1) make the output more random.\n",
        "     - Lower values (closer to 0) make the output more focused.\n",
        "   - Change the `max_tokens` to control the length of the response.\n",
        "   - Modify `top_p`, `frequency_penalty`, and `presence_penalty` to see their effects on the response.\n",
        "\n",
        "3. **Try Different User Messages:**\n",
        "   - Replace `user_message` with different medications from the list or create your own.\n",
        "   - Example: `user_message = \"Classify the medication Hydrochlorothiazide\"`\n",
        "\n",
        "Feel free to explore and modify these parameters to see how the model's responses change. Happy experimenting!\n"
      ],
      "metadata": {
        "id": "Vfj1vTz5rLrF"
      }
    },
    {
      "cell_type": "code",
      "source": [
        "import openai\n",
        "\n",
        "# Set your OpenAI API key\n",
        "openai.api_key = api_key\n",
        "\n",
        "# Define the system and user messages\n",
        "system_message = \"Be a helpful assistant.\"\n",
        "user_message = \"\"\"\n",
        "Classify the medication Hydrochlorothiazide\"\n",
        "\"\"\"\n",
        "# Call the OpenAI GPT model\n",
        "response = client.chat.completions.create(\n",
        "    model=\"gpt-4-turbo-2024-04-09\",\n",
        "    messages=[\n",
        "        {\"role\": \"system\", \"content\": system_message},\n",
        "        {\"role\": \"user\", \"content\": user_message}\n",
        "    ],\n",
        "    temperature=0.7,\n",
        "    max_tokens=150,\n",
        "    top_p=1.0,\n",
        "    frequency_penalty=0.0,\n",
        "    presence_penalty=0.0\n",
        ")\n",
        "\n",
        "# Print the response from the model\n",
        "output = response.choices[0].message.content.strip()\n",
        "print(\"Response:\", output)"
      ],
      "metadata": {
        "id": "DgnOHqOGrZlp"
      },
      "execution_count": null,
      "outputs": []
    },
    {
      "cell_type": "markdown",
      "metadata": {
        "id": "b8JaCtFEaW2i"
      },
      "source": [
        "## The Main Script `gpt_line_processor.py`\n",
        "\n",
        "To make things easier and more accessible, this script automates the interaction with OpenAI's GPT models. It is designed to be user-friendly, even for those who may not be familiar with Python, coding, or APIs.\n",
        "\n",
        "### Overview\n",
        "\n",
        "This notebook demonstrates how to use a script for processing lines using various models from OpenAI, as specified in configuration files. The script, `gpt_line_processor.py`, simplifies the process by handling all the technical details for you.\n",
        "\n",
        "### What Does the Script Do?\n",
        "\n",
        "The script sets up and runs a main function called `process_lines(config_file, system_prompt_file, user_prompt_file, input_file, output_location, file_prefix)`. This function does the following:\n",
        "\n",
        "- **Reads the Configuration File:** This file contains settings for different OpenAI models.\n",
        "- **Reads the Input Files:** These files contain the lines of text (e.g., medication names) you want to process.\n",
        "- **Reads the Prompt Files:** These files contain instructions for the GPT models on how to respond.\n",
        "- **Submits API Requests:** For each line in the input file, the script submits an API request to the specified OpenAI models. This means if you have 10 lines and 4 models, the script will make 40 API requests.\n",
        "- **Processes the Responses:** It processes the responses from the GPT models and organizes them.\n",
        "- **Saves the Results:** The results are saved to a specified output file in either text or CSV format.\n",
        "\n",
        "### How to Use the Script\n",
        "\n",
        "This script is designed to be as simple as possible. You don't need to write any code or understand how the API works. Just follow these steps:\n",
        "\n",
        "1. **Ensure All Files Are in Place:**\n",
        "   - **Configuration Files:** These files have settings for different OpenAI models. These should be in the `configs/` folder. Example paths:\n",
        "     - `configs/config_example_4models.ini`\n",
        "   - **Input Files:** These files have the data (lines of text) that you want to process. These should be in the `inputs/` folder. Example path:\n",
        "     - `inputs/medication_example_5meds.txt`\n",
        "   - **Prompt Files:** These files contain instructions for the GPT models to guide their responses. These should be in the `prompts/` folder. Example paths:\n",
        "     - `prompts/system_prompt_1.txt`\n",
        "     - `prompts/user_prompt.txt`\n",
        "\n",
        "2. **Run the Script:**\n",
        "   - The script will read your configuration, input, and prompt files.\n",
        "   - It will send the input lines to the GPT models, using the prompts to guide their responses.\n",
        "   - The responses will be saved in an output file, either as text or CSV.\n",
        "\n",
        "3. **View Your Results:**\n",
        "   - Open the output file to see the results. The script organizes everything neatly, so it's easy to read and analyze."
      ]
    },
    {
      "cell_type": "markdown",
      "source": [
        "## Example1: Classify a Medication\n",
        "\n",
        "You can call the main function from the script, with example files that are already provided in this Colab notebook.\n",
        "\n",
        "Here we classify a single medication, `chlorothiazide [Diuril]`, using four models (`gpt-3.5-turbo-1106, gpt-4-turbo-2024-04-09, gpt-4o-2024-05-13, and gpt-4o-mini-2024-07-18`) with default settings.  \n",
        "The user prompt is `Please classify the following medication: {input_line}` and the system prompt is `Classify the medication.`  \n",
        "The results are written to a text file."
      ],
      "metadata": {
        "id": "vymArrOpzqu4"
      }
    },
    {
      "cell_type": "code",
      "execution_count": null,
      "metadata": {
        "id": "38iLjCP3pf94"
      },
      "outputs": [],
      "source": [
        "process_lines(\n",
        "    config_file='/content/EPID731_2024/Day4/configs/config_example_4models.ini',\n",
        "    system_prompt_file='/content/EPID731_2024/Day4/prompts/system_prompt_1.txt',\n",
        "    user_prompt_file='/content/EPID731_2024/Day4/prompts/user_prompt.txt',\n",
        "    input_file='/content/EPID731_2024/Day4/inputs/medication_example_1med.txt',\n",
        "    output_location='/content/GPT_Outputs',\n",
        "    file_prefix='Example1_prompt1_1med'\n",
        ")\n"
      ]
    },
    {
      "cell_type": "markdown",
      "source": [
        "### Finding the Output File\n",
        "\n",
        "After running the script, you can find the output file as follows:\n",
        "\n",
        "1. **Open the File Explorer in Colab**: Click the folder icon on the left sidebar.\n",
        "2. **Refresh the File List**: Click the refresh icon at the top of the file explorer to update the file list.\n",
        "3. **Navigate to `GPT_Outputs`**: Open the `GPT_Outputs` folder (`/content/GPT_Outputs`).\n",
        "4. **Locate the Output File**: Look for the file named `Example1_prompt1_1med.txt` (`/content/GPT_Outputs/Example1_prompt1_1med_results.txt`).\n",
        "\n",
        "This file contains the classification results for the medication \"chlorothiazide [Diuril]\" using the specified models. Open this file to view the detailed results."
      ],
      "metadata": {
        "id": "RZ9B4fXizW4h"
      }
    },
    {
      "cell_type": "markdown",
      "source": [
        "We can also change the output format to CSV-format by specifying it in the config file:\n",
        "`/content/EPID731_2024/Day4/configs/config_example_4models.ini`\n",
        "\n",
        "Find the section:\n",
        "```\n",
        "[output_format]\n",
        "# Specify the format as 'text' or 'csv'\n",
        "format = text\n",
        "```\n",
        "\n",
        "and change it to:\n",
        "```\n",
        "[output_format]\n",
        "# Specify the format as 'text' or 'csv'\n",
        "format = csv\n",
        "```\n",
        "\n",
        "Then rerun the code cell above. There should be a new CSV file:\n",
        "`/content/GPT_Outputs/Example1_prompt1_1med_results.csv`"
      ],
      "metadata": {
        "id": "R3T-6d2b0Sla"
      }
    },
    {
      "cell_type": "markdown",
      "source": [
        "## Example 2: Turning up the temperature\n",
        "\n",
        "The `process_lines()` function is working and creates easy to parse output.\n",
        "Let's use to see what happens if we modify the temperature.\n",
        "\n",
        "We will use a different medication input file which lists the medication `Diuril` five times, so that we'll have 5 API requests.\n",
        "We'll only specify one model `gpt-4o-2024-05-13` and set the temperature to `0`.\n",
        "We will use the CSV output for increased readability.\n",
        "\n",
        "The temperature is set via the config file in the secion `response_settings`:\n",
        "\n",
        "```\n",
        "[response_settings]\n",
        "temperature = 0\n",
        "max_tokens = 120\n",
        "top_p = 1.0\n",
        "frequency_penalty = 0.0\n",
        "presence_penalty = 0.0\n",
        "```"
      ],
      "metadata": {
        "id": "w5uxI_gk51Yt"
      }
    },
    {
      "cell_type": "code",
      "source": [
        "process_lines(\n",
        "    config_file='/content/EPID731_2024/Day4/configs/config_example_low_temperature.ini',\n",
        "    system_prompt_file='/content/EPID731_2024/Day4/prompts/system_prompt_1.txt',\n",
        "    user_prompt_file='/content/EPID731_2024/Day4/prompts/user_prompt.txt',\n",
        "    input_file='/content/EPID731_2024/Day4/inputs/medication_example_1med_x5.txt',\n",
        "    output_location='/content/GPT_Outputs',\n",
        "    file_prefix='Example2_prompt1_1med_lowtemp'\n",
        ")"
      ],
      "metadata": {
        "id": "2qlA4MpL6Awy"
      },
      "execution_count": null,
      "outputs": []
    },
    {
      "cell_type": "markdown",
      "source": [
        "You can find the results here: `/content/GPT_Outputs/Example2_prompt1_1med_lowtemp_results.csv`\n",
        "\n",
        "The Output from each of the 5 API calls is very similar if not identical.\n",
        "\n",
        "\n",
        "```\n",
        "# This is formatted as code\n",
        "```\n",
        "\n",
        "\n",
        "Let's increase the temperature to 1."
      ],
      "metadata": {
        "id": "-Pqp-y5R7k1s"
      }
    },
    {
      "cell_type": "code",
      "source": [
        "process_lines(\n",
        "    config_file='/content/EPID731_2024/Day4/configs/config_example_high_temperature.ini',\n",
        "    system_prompt_file='/content/EPID731_2024/Day4/prompts/system_prompt_1.txt',\n",
        "    user_prompt_file='/content/EPID731_2024/Day4/prompts/user_prompt.txt',\n",
        "    input_file='/content/EPID731_2024/Day4/inputs/medication_example_1med_x5.txt',\n",
        "    output_location='/content/GPT_Outputs',\n",
        "    file_prefix='Example2_prompt1_1med_hightemp'\n",
        ")"
      ],
      "metadata": {
        "id": "41-4VKY4-VK9"
      },
      "execution_count": null,
      "outputs": []
    },
    {
      "cell_type": "markdown",
      "source": [
        "You can find the results here: `/content/GPT_Outputs/Example2_prompt1_1med_hightemp_results.csv`\n",
        "\n",
        "How does the output compare across API calls?"
      ],
      "metadata": {
        "id": "v2C9BqS4-ext"
      }
    },
    {
      "cell_type": "markdown",
      "source": [
        "## Example 3: Prompt Development\n",
        "\n",
        "We will use a different medication input file which lists 10 medications (actually 5 medications with one line with the generic name, and one line with the brand name):\n",
        "\n",
        "```\n",
        "Amiodarone Hydrochloride\n",
        "Pacerone\n",
        "Disopyramide\n",
        "Norpace\n",
        "Chlorothiazide\n",
        "Diuril\n",
        "Propafenone Hydrochloride\n",
        "Rythmol\n",
        "Losartan and Hydrochlorothiazide\n",
        "Hyzaar\n",
        "```\n",
        "\n",
        "The model of choice is `gpt-4o-2024-05-13`.\n",
        "The temperature is set to `0`\n",
        "Output format is `csv` for increased readability."
      ],
      "metadata": {
        "id": "umQAYjf9_AkU"
      }
    },
    {
      "cell_type": "markdown",
      "source": [
        "### Example 3.1: Simple Prompt\n",
        "\n",
        "```\n",
        "Classify the medication.\n",
        "```\n"
      ],
      "metadata": {
        "id": "TbGrMxm0BAwj"
      }
    },
    {
      "cell_type": "code",
      "source": [
        "process_lines(\n",
        "    config_file='/content/EPID731_2024/Day4/configs/config_example_low_temperature.ini',\n",
        "    system_prompt_file='/content/EPID731_2024/Day4/prompts/system_prompt_1.txt',\n",
        "    user_prompt_file='/content/EPID731_2024/Day4/prompts/user_prompt.txt',\n",
        "    input_file='/content/EPID731_2024/Day4/inputs/medication_example_5meds.txt',\n",
        "    output_location='/content/GPT_Outputs',\n",
        "    file_prefix='Example3_prompt1_5meds'\n",
        ")\n"
      ],
      "metadata": {
        "id": "lH9QdJv2BFr0"
      },
      "execution_count": null,
      "outputs": []
    },
    {
      "cell_type": "markdown",
      "source": [
        "Output: `/content/GPT_Outputs/Example3_prompt1_5meds_results.csv`"
      ],
      "metadata": {
        "id": "i0zMg2uRBVvK"
      }
    },
    {
      "cell_type": "markdown",
      "source": [
        "### Example 3.2: Prompt with **Instructions**\n",
        "\n",
        "```\n",
        "Classify the medication by providing its generic name, primary use, and its pharmacological classification.\n",
        "```\n"
      ],
      "metadata": {
        "id": "sJ8cmIv3Bg0c"
      }
    },
    {
      "cell_type": "code",
      "source": [
        "process_lines(\n",
        "    config_file='/content/EPID731_2024/Day4/configs/config_example_low_temperature.ini',\n",
        "    system_prompt_file='/content/EPID731_2024/Day4/prompts/system_prompt_2.txt',\n",
        "    user_prompt_file='/content/EPID731_2024/Day4/prompts/user_prompt.txt',\n",
        "    input_file='/content/EPID731_2024/Day4/inputs/medication_example_5meds.txt',\n",
        "    output_location='/content/GPT_Outputs',\n",
        "    file_prefix='Example3_prompt2_5meds'\n",
        ")"
      ],
      "metadata": {
        "id": "THIdwFkxBlHe"
      },
      "execution_count": null,
      "outputs": []
    },
    {
      "cell_type": "markdown",
      "source": [
        "Output: `/content/GPT_Outputs/Example3_prompt2_5meds_results.csv`"
      ],
      "metadata": {
        "id": "UxFlhdD0Bx0U"
      }
    },
    {
      "cell_type": "markdown",
      "source": [
        "### Example 3.3: Additional Context\n",
        "Simple Prompt with\n",
        "- Instructions\n",
        "- **Additional Context**\n",
        "\n",
        "```\n",
        "Classify the medication by providing its generic name, primary use, and its pharmacological classification.\n",
        "Ensure to align the classification with the following blood pressure medication classes:\n",
        "Diuretic, Beta-blocker, ACE inhibitor, Angiotensin II receptor blocker, Calcium channel blocker, Alpha-blocker,\n",
        "Alpha-2 receptor agonist, Combined alpha and beta-blocker, and Vasodilator.\n",
        "```"
      ],
      "metadata": {
        "id": "5f_i4EKPB01u"
      }
    },
    {
      "cell_type": "code",
      "source": [
        "process_lines(\n",
        "    config_file='/content/EPID731_2024/Day4/configs/config_example_low_temperature.ini',\n",
        "    system_prompt_file='/content/EPID731_2024/Day4/prompts/system_prompt_3.txt',\n",
        "    user_prompt_file='/content/EPID731_2024/Day4/prompts/user_prompt.txt',\n",
        "    input_file='/content/EPID731_2024/Day4/inputs/medication_example_5meds.txt',\n",
        "    output_location='/content/GPT_Outputs',\n",
        "    file_prefix='Example3_prompt3_5meds'\n",
        ")"
      ],
      "metadata": {
        "id": "PArchtsMB1Cz"
      },
      "execution_count": null,
      "outputs": []
    },
    {
      "cell_type": "markdown",
      "source": [
        "Output: `/content/GPT_Outputs/Example3_prompt3_5meds_results.csv`"
      ],
      "metadata": {
        "id": "TjFQrQlNB1Rx"
      }
    },
    {
      "cell_type": "markdown",
      "source": [
        "### Example 3.4: Chain-of-Thought\n",
        "Structured Prompt with\n",
        "- **Step-by-Step Instructions**\n",
        "- Additional Context\n",
        "\n",
        "```\n",
        "Classify the medication by following these steps:\n",
        "\n",
        "1. Identify and provide its generic name.\n",
        "2. Determine its primary use.\n",
        "3. Classify it according to the following blood pressure medication classes:\n",
        "- Diuretic\n",
        "- Beta-blocker\n",
        "- ACE inhibitor\n",
        "- Angiotensin II receptor blocker\n",
        "- Calcium channel blocker\n",
        "- Alpha-blocker\n",
        "- Alpha-2 receptor agonist\n",
        "- Combined alpha and beta-blocker\n",
        "- Vasodilator\n",
        "4. Review the classification to ensure it is accurate and complete.\n",
        "5. Provide the final, refined answer concisely without detailing the step-by-step process.\n",
        "\n",
        "```"
      ],
      "metadata": {
        "id": "850hEnhOB11P"
      }
    },
    {
      "cell_type": "code",
      "source": [
        "process_lines(\n",
        "    config_file='/content/EPID731_2024/Day4/configs/config_example_low_temperature.ini',\n",
        "    system_prompt_file='/content/EPID731_2024/Day4/prompts/system_prompt_4.txt',\n",
        "    user_prompt_file='/content/EPID731_2024/Day4/prompts/user_prompt.txt',\n",
        "    input_file='/content/EPID731_2024/Day4/inputs/medication_example_5meds.txt',\n",
        "    output_location='/content/GPT_Outputs',\n",
        "    file_prefix='Example3_prompt4_5meds'\n",
        ")"
      ],
      "metadata": {
        "id": "SUZq47fxB1_m"
      },
      "execution_count": null,
      "outputs": []
    },
    {
      "cell_type": "markdown",
      "source": [
        "Output: `/content/GPT_Outputs/Example3_prompt4_5meds_results.csv`"
      ],
      "metadata": {
        "id": "XRdIYX-SB2Tr"
      }
    },
    {
      "cell_type": "markdown",
      "source": [
        "### Example 3.5: Example Output Format\n",
        "Structured Prompt with\n",
        "- Step-by-Step Instructions\n",
        "- Additional Context\n",
        "- **Example Output Format**\n",
        "\n",
        "```\n",
        "Classify the medication by following these steps:\n",
        "\n",
        "1. Identify and provide its generic name.\n",
        "2. Determine its primary use.\n",
        "3. Classify it according to the following blood pressure medication classes:\n",
        "- Diuretic\n",
        "- Beta-blocker\n",
        "- ACE inhibitor\n",
        "- Angiotensin II receptor blocker\n",
        "- Calcium channel blocker\n",
        "- Alpha-blocker\n",
        "- Alpha-2 receptor agonist\n",
        "- Combined alpha and beta-blocker\n",
        "- Vasodilator\n",
        "4. Review the classification to ensure it is accurate and complete.\n",
        "5. Provide the final, refined answer concisely without detailing the step-by-step process.\n",
        "\n",
        "Present the results in the following text format for easy readability and parsability:\n",
        "\n",
        "Generic Name: [Generic Name]\n",
        "Primary Use: [Primary Use]\n",
        "Classification: [Classification]\n",
        "```"
      ],
      "metadata": {
        "id": "iD2Yz_PLB2aU"
      }
    },
    {
      "cell_type": "code",
      "source": [
        "process_lines(\n",
        "    config_file='/content/EPID731_2024/Day4/configs/config_example_low_temperature.ini',\n",
        "    system_prompt_file='/content/EPID731_2024/Day4/prompts/system_prompt_5.txt',\n",
        "    user_prompt_file='/content/EPID731_2024/Day4/prompts/user_prompt.txt',\n",
        "    input_file='/content/EPID731_2024/Day4/inputs/medication_example_5meds.txt',\n",
        "    output_location='/content/GPT_Outputs',\n",
        "    file_prefix='Example3_prompt5_5meds'\n",
        ")"
      ],
      "metadata": {
        "id": "PDgqwh4YB2iu"
      },
      "execution_count": null,
      "outputs": []
    },
    {
      "cell_type": "markdown",
      "source": [
        "Output: `/content/GPT_Outputs/Example3_prompt5_5meds_results.csv`"
      ],
      "metadata": {
        "id": "FmUyqoW2B2sa"
      }
    },
    {
      "cell_type": "markdown",
      "source": [
        "### Example 3.6: Fallback Options\n",
        "Structured Prompt with\n",
        "- Step-by-Step Instructions\n",
        "- Additional Context\n",
        "- Example Output Format\n",
        "- **Fallback Classification**\n",
        "\n",
        "```\n",
        "Classify the medication by following these steps:\n",
        "\n",
        "1. Identify and provide its generic name.\n",
        "2. Determine its primary use.\n",
        "3. Classify it according to the following blood pressure medication classes:\n",
        "- Diuretic\n",
        "- Beta-blocker\n",
        "- ACE inhibitor\n",
        "- Angiotensin II receptor blocker\n",
        "- Calcium channel blocker\n",
        "- Alpha-blocker\n",
        "- Alpha-2 receptor agonist\n",
        "- Combined alpha and beta-blocker\n",
        "- Vasodilator\n",
        "4. If the medication does not fit the listed categories, classify it as Other.\n",
        "5. If the medication is unknown, classify it as Unknown.\n",
        "6. Review the classification to ensure it is accurate and complete.\n",
        "7. Provide the final, refined answer concisely without detailing the step-by-step process.\n",
        "\n",
        "Present the results in the following text format for easy readability and parsability:\n",
        "\n",
        "Generic Name: [Generic Name or Unknown]\n",
        "Primary Use: [Primary Use or Unknown]\n",
        "Classification: [Classification or Other or Unknown]\n",
        "\n",
        "```\n"
      ],
      "metadata": {
        "id": "vsbKnJrfB2v1"
      }
    },
    {
      "cell_type": "code",
      "source": [
        "process_lines(\n",
        "    config_file='/content/EPID731_2024/Day4/configs/config_example_low_temperature.ini',\n",
        "    system_prompt_file='/content/EPID731_2024/Day4/prompts/system_prompt_6.txt',\n",
        "    user_prompt_file='/content/EPID731_2024/Day4/prompts/user_prompt.txt',\n",
        "    input_file='/content/EPID731_2024/Day4/inputs/medication_example_5meds.txt',\n",
        "    output_location='/content/GPT_Outputs',\n",
        "    file_prefix='Example3_prompt6_5meds'\n",
        ")"
      ],
      "metadata": {
        "id": "oqDZ6NKuB24-"
      },
      "execution_count": null,
      "outputs": []
    },
    {
      "cell_type": "markdown",
      "source": [
        "Output: `/content/GPT_Outputs/Example3_prompt6_5meds_results.csv`"
      ],
      "metadata": {
        "id": "8Lb574jEB3Ht"
      }
    },
    {
      "cell_type": "markdown",
      "source": [
        "### Example 3.7: Multiple Outcomes\n",
        "Structured Prompt with\n",
        "- Step-by-Step Instructions\n",
        "- Additional Context\n",
        "- Example Output Format\n",
        "- Fallback Classification\n",
        "- **Allow Multiple Outcomes**\n",
        "\n",
        "```\n",
        "Classify the medication by following these steps:\n",
        "\n",
        "1. Identify and provide its generic name(s), comma-separated.\n",
        "2. Determine its primary use(s), comma-separated.\n",
        "3. Classify it according to the following blood pressure medication classes:\n",
        "- Diuretic\n",
        "- Beta-blocker\n",
        "- ACE inhibitor\n",
        "- Angiotensin II receptor blocker\n",
        "- Calcium channel blocker\n",
        "- Alpha-blocker\n",
        "- Alpha-2 receptor agonist\n",
        "- Combined alpha and beta-blocker\n",
        "- Vasodilator\n",
        "4. If the medication does not fit the listed categories, classify it as Other.\n",
        "5. If the medication is unknown, classify it as Unknown.\n",
        "6. If the medication fits into multiple classes, report all comma-separated.\n",
        "7. Review the classification to ensure it is accurate and complete.\n",
        "8. Provide the final, refined answer concisely without detailing the step-by-step process.\n",
        "\n",
        "Present the results in the following text format for easy readability and parsability:\n",
        "\n",
        "Generic Name: [Generic Name(s) or Unknown]\n",
        "Primary Use: [Primary Use(s) or Unknown]\n",
        "Classification: [Classification(s) or Other or Unknown]\n",
        "\n",
        "```"
      ],
      "metadata": {
        "id": "w2Y056jAB3L9"
      }
    },
    {
      "cell_type": "code",
      "source": [
        "process_lines(\n",
        "    config_file='/content/EPID731_2024/Day4/configs/config_example_low_temperature.ini',\n",
        "    system_prompt_file='/content/EPID731_2024/Day4/prompts/system_prompt_7.txt',\n",
        "    user_prompt_file='/content/EPID731_2024/Day4/prompts/user_prompt.txt',\n",
        "    input_file='/content/EPID731_2024/Day4/inputs/medication_example_5meds.txt',\n",
        "    output_location='/content/GPT_Outputs',\n",
        "    file_prefix='Example3_prompt7_5meds'\n",
        ")"
      ],
      "metadata": {
        "id": "EgurkA_rB3Wd"
      },
      "execution_count": null,
      "outputs": []
    },
    {
      "cell_type": "markdown",
      "source": [
        "Output: `/content/GPT_Outputs/Example3_prompt7_5meds_results.csv`"
      ],
      "metadata": {
        "id": "HymsoFMHB3hW"
      }
    },
    {
      "cell_type": "markdown",
      "source": [
        "### Example 3.8: Defined Role\n",
        "Structured Prompt with\n",
        "- Step-by-Step Instructions\n",
        "- Additional Context\n",
        "- Example Output Format\n",
        "- Fallback Classification\n",
        "- Allow Multiple Outcomes\n",
        "- **Defined Role**\n",
        "\n",
        "```\n",
        "As a pharmaceutical expert with extensive knowledge in medication classification and pharmacology,\n",
        "classify the medication by following these steps:\n",
        "\n",
        "1. Identify and provide its generic name(s), comma-separated.\n",
        "2. Determine its primary use(s), comma-separated.\n",
        "3. Classify it according to the following blood pressure medication classes:\n",
        "- Diuretic\n",
        "- Beta-blocker\n",
        "- ACE inhibitor\n",
        "- Angiotensin II receptor blocker\n",
        "- Calcium channel blocker\n",
        "- Alpha-blocker\n",
        "- Alpha-2 receptor agonist\n",
        "- Combined alpha and beta-blocker\n",
        "- Vasodilator\n",
        "4. If the medication does not fit the listed categories, classify it as Other.\n",
        "5. If the medication is unknown, classify it as Unknown.\n",
        "6. If the medication fits into multiple classes, report all comma-separated.\n",
        "7. Review the classification to ensure it is accurate and complete.\n",
        "8. Provide the final, refined answer concisely without detailing the step-by-step process.\n",
        "\n",
        "Present the results in the following text format for easy readability and parsability:\n",
        "\n",
        "Generic Name: [Generic Name(s) or Unknown]\n",
        "Primary Use: [Primary Use(s) or Unknown]\n",
        "Classification: [Classification(s) or Other or Unknown]\n",
        "\n",
        "```"
      ],
      "metadata": {
        "id": "SJrWhFP4B3kx"
      }
    },
    {
      "cell_type": "code",
      "source": [
        "process_lines(\n",
        "    config_file='/content/EPID731_2024/Day4/configs/config_example_low_temperature.ini',\n",
        "    system_prompt_file='/content/EPID731_2024/Day4/prompts/system_prompt_8.txt',\n",
        "    user_prompt_file='/content/EPID731_2024/Day4/prompts/user_prompt.txt',\n",
        "    input_file='/content/EPID731_2024/Day4/inputs/medication_example_5meds.txt',\n",
        "    output_location='/content/GPT_Outputs',\n",
        "    file_prefix='Example3_prompt8_5meds'\n",
        ")"
      ],
      "metadata": {
        "id": "8MTdbLYIB3vu"
      },
      "execution_count": null,
      "outputs": []
    },
    {
      "cell_type": "markdown",
      "source": [
        "Output: `/content/GPT_Outputs/Example3_prompt8_5meds_results.csv`"
      ],
      "metadata": {
        "id": "yn5XEdqCCJ3s"
      }
    },
    {
      "cell_type": "markdown",
      "source": [
        "### Example 3.9: Formatted\n",
        "Structured Prompt with\n",
        "- Step-by-Step Instructions\n",
        "- Additional Context\n",
        "- Example Output Format\n",
        "- Fallback Classification\n",
        "- Allow Multiple Outcomes\n",
        "- Defined Role\n",
        "- **Formatted**\n",
        "\n",
        "```\n",
        "## Role\n",
        "Pharmaceutical Expert with extensive knowledge in medication classification and pharmacology\n",
        "\n",
        "## Objective\n",
        "Classify a medication by identifying and providing its generic name(s), determining its primary use(s), and classifying it according to the listed blood pressure medication classes.\n",
        "\n",
        "## Chain-of-Thought\n",
        "1. Identify and provide its generic name(s), comma-separated.\n",
        "2. Determine its primary use(s), comma-separated.\n",
        "3. Classify it according to the following blood pressure medication classes:\n",
        "   - Diuretic\n",
        "   - Beta-blocker\n",
        "   - ACE inhibitor\n",
        "   - Angiotensin II receptor blocker\n",
        "   - Calcium channel blocker\n",
        "   - Alpha-blocker\n",
        "   - Alpha-2 receptor agonist\n",
        "   - Combined alpha and beta-blocker\n",
        "   - Vasodilator\n",
        "4. If the medication does not fit the listed categories, classify it as Other.\n",
        "5. If the medication is unknown, classify it as Unknown.\n",
        "6. If the medication fits into multiple classes, report all comma-separated.\n",
        "7. Review the classification to ensure it is accurate and complete.\n",
        "8. Provide the final, refined answer concisely without detailing the step-by-step process.\n",
        "\n",
        "## Output Format\n",
        "Generic Name: [Generic Name(s) or Unknown]  \n",
        "Primary Use: [Primary Use(s) or Unknown]  \n",
        "Classification: [Classification(s) or Other or Unknown]\n",
        "\n",
        "```\n",
        "\n",
        "\n",
        "We'll also measure and log the time taken by the function to process 5 medications:"
      ],
      "metadata": {
        "id": "I4ITgAn4CJ7e"
      }
    },
    {
      "cell_type": "code",
      "source": [
        "exec(open(\"/content/EPID731_2024/Day4/scripts/gpt_line_processor.py\").read())\n"
      ],
      "metadata": {
        "id": "r4T7JgrW64_k"
      },
      "execution_count": null,
      "outputs": []
    },
    {
      "cell_type": "code",
      "source": [
        "import time\n",
        "\n",
        "# Record the start time\n",
        "start_time = time.time()\n",
        "\n",
        "process_lines(\n",
        "    config_file='/content/EPID731_2024/Day4/configs/config_example_low_temperature.ini',\n",
        "    system_prompt_file='/content/EPID731_2024/Day4/prompts/system_prompt_9.txt',\n",
        "    user_prompt_file='/content/EPID731_2024/Day4/prompts/user_prompt.txt',\n",
        "    input_file='/content/EPID731_2024/Day4/inputs/medication_example_5meds.txt',\n",
        "    output_location='/content/GPT_Outputs',\n",
        "    file_prefix='Example3_prompt9_5meds'\n",
        ")\n",
        "\n",
        "# Calculate and display the elapsed time\n",
        "elapsed_time = time.time() - start_time\n",
        "print(f\"Total time taken for processing: {elapsed_time:.2f} seconds.\")"
      ],
      "metadata": {
        "id": "JmHmySFbCKHj"
      },
      "execution_count": null,
      "outputs": []
    },
    {
      "cell_type": "markdown",
      "source": [
        "Output: `/content/GPT_Outputs/Example3_prompt9_5meds_results.csv`"
      ],
      "metadata": {
        "id": "RPZG2FgrCKP2"
      }
    },
    {
      "cell_type": "markdown",
      "source": [
        "# Example 4: Asynchronous API Calls for Medication Classification\n",
        "\n",
        "In this advanced exercise, we will classify 158 known blood pressure medications using asynchronous API calls. This technique is essential for handling large datasets efficiently, allowing multiple requests to be processed in parallel rather than sequentially. This approach is particularly advantageous in scenarios requiring rapid data processing and minimal response times.\n"
      ],
      "metadata": {
        "id": "qdBhxWjL57s0"
      }
    },
    {
      "cell_type": "markdown",
      "source": [
        "## Script Overview\n",
        "\n",
        "The script (`gpt_process_batches.py`) is designed to optimize API usage by batching requests. This method differs significantly from traditional synchronous processing by sending multiple requests simultaneously, thus accelerating the response time and enhancing overall efficiency.\n",
        "\n",
        "**Step 1: Load and Execute the Script**\n",
        "\n",
        "First, we load the necessary functions from an external Python script, then define an asynchronous function to manage our batch processing:\n"
      ],
      "metadata": {
        "id": "J9hYVaUq59AB"
      }
    },
    {
      "cell_type": "code",
      "source": [
        "# Import the external script containing batch processing functions\n",
        "exec(open(\"/content/EPID731_2024/Day4/scripts/gpt_process_batches.py\").read())\n",
        "\n",
        "# Define the asynchronous function to handle batch processing\n",
        "async def run():\n",
        "    await process_batches(\n",
        "        config_file='/content/EPID731_2024/Day4/configs/config_example_low_temperature.ini',\n",
        "        system_prompt_file='/content/EPID731_2024/Day4/prompts/system_prompt_9.txt',\n",
        "        user_prompt_file='/content/EPID731_2024/Day4/prompts/user_prompt.txt',\n",
        "        input_file='/content/EPID731_2024/Day4/inputs/medication_example_aha.txt',\n",
        "        output_location='/content/GPT_Outputs',\n",
        "        file_prefix='Example4_prompt9_aha_meds',\n",
        "        chunk_size=100  # Adjust based on API rate limits and performance needs\n",
        "    )"
      ],
      "metadata": {
        "id": "Y5_9jXqH6C3A"
      },
      "execution_count": null,
      "outputs": []
    },
    {
      "cell_type": "markdown",
      "source": [
        "**Step 2: Running the Classification**\n",
        "\n",
        "Execute the following command to start processing the medication data asynchronously. This action utilizes the script settings previously defined:\n",
        "\n",
        "We'll also measure and log the time taken by the function to process the batch requests:\n"
      ],
      "metadata": {
        "id": "0H42LepA6Fu4"
      }
    },
    {
      "cell_type": "code",
      "source": [
        "import time\n",
        "\n",
        "# Record the start time\n",
        "start_time = time.time()\n",
        "\n",
        "# Execute the asynchronous batch processing\n",
        "await run()\n",
        "\n",
        "# Calculate and display the elapsed time\n",
        "elapsed_time = time.time() - start_time\n",
        "print(f\"Total time taken for processing: {elapsed_time:.2f} seconds.\")\n",
        "\n",
        "# Reload the original script to not run into any conflicts when exploring the other examples that use a loop:\n",
        "exec(open(\"/content/EPID731_2024/Day4/scripts/gpt_line_processor.py\").read())"
      ],
      "metadata": {
        "id": "A_akB7pd6V1Y"
      },
      "execution_count": null,
      "outputs": []
    },
    {
      "cell_type": "markdown",
      "source": [
        "\n",
        "## Output and Analysis\n",
        "\n",
        "The output can be found here:\n",
        "`/content/GPT_Outputs/Example4_prompt9_aha_meds_gpt-4o-2024-05-13_results.csv`\n",
        "\n",
        "Asynchronous operations may result in outputs that do not align with the sequence of inputs due to the non-linear processing of tasks. This is a common characteristic of asynchronous systems, influenced by factors such as API load and network conditions.\n",
        "\n",
        "### Key Points to Consider\n",
        "\n",
        "- **Efficiency**: Asynchronous processing markedly improves efficiency for operations involving large datasets.\n",
        "- **Scalability**: This approach is highly scalable, accommodating larger datasets and higher volumes of requests effectively. But costs ramp up quickly.\n"
      ],
      "metadata": {
        "id": "UFKkSjxZ6_kj"
      }
    },
    {
      "cell_type": "markdown",
      "source": [
        "# Example 5: Asynchronous API Calls for ATC Medication Classification\n",
        "\n",
        "In this advanced exercise, we will classify all the drug_concept_names from the Day 2 Synthetics EHR data example."
      ],
      "metadata": {
        "id": "hRp0N2Els6ov"
      }
    },
    {
      "cell_type": "code",
      "source": [
        "# Import the external script containing batch processing functions\n",
        "exec(open(\"/content/EPID731_2024/Day4/scripts/gpt_process_batches.py\").read())\n",
        "\n",
        "# Define the asynchronous function to handle batch processing\n",
        "async def run():\n",
        "    await process_batches(\n",
        "        config_file='/content/EPID731_2024/Day4/configs/config_example_low_temperature.ini',\n",
        "        system_prompt_file='/content/EPID731_2024/Day4/prompts/system_prompt_9.txt',\n",
        "        user_prompt_file='/content/EPID731_2024/Day4/prompts/user_prompt.txt',\n",
        "        input_file='/content/EPID731_2024/Day4/inputs/unique_drug_concept_names.txt',\n",
        "        output_location='/content/GPT_Outputs',\n",
        "        file_prefix='Example5_prompt9_rxcorm_concept_names',\n",
        "        chunk_size=100  # Adjust based on API rate limits and performance needs\n",
        "    )\n"
      ],
      "metadata": {
        "id": "DvZ-mDF8m6YA"
      },
      "execution_count": null,
      "outputs": []
    },
    {
      "cell_type": "code",
      "source": [
        "import time\n",
        "\n",
        "# Record the start time\n",
        "start_time = time.time()\n",
        "\n",
        "# Execute the asynchronous batch processing\n",
        "await run()\n",
        "\n",
        "# Calculate and display the elapsed time\n",
        "elapsed_time = time.time() - start_time\n",
        "print(f\"Total time taken for processing: {elapsed_time:.2f} seconds.\")\n",
        "\n",
        "# Reload the original script to not run into any conflicts when exploring the other examples that use a loop:\n",
        "exec(open(\"/content/EPID731_2024/Day4/scripts/gpt_line_processor.py\").read())"
      ],
      "metadata": {
        "id": "QZJPVZHBm_4S"
      },
      "execution_count": null,
      "outputs": []
    },
    {
      "cell_type": "markdown",
      "source": [
        "# Reflection: AI-Assisted Classification of Medications\n",
        "\n",
        "## Evaluate AI Classifications\n",
        "**Activity**: Compare the AI-generated classifications of 158 blood pressure medications with the categories and treatments listed on the American Heart Association's [Types of Blood Pressure Medications](https://www.heart.org/en/health-topics/high-blood-pressure/changes-you-can-make-to-manage-high-blood-pressure/types-of-blood-pressure-medications) page.\n",
        "\n",
        "### Discussion Points\n",
        "- **Accuracy**: Assess the precision of AI classifications. Are the results consistent with established medical standards?\n",
        "- **Discrepancies**: Identify any discrepancies between AI results and AHA information. Discuss possible reasons for these differences.\n",
        "- **Cost Analysis**: Reflect on the cost-effectiveness of using AI for this classification task. Was the financial investment justified by the outcomes?\n",
        "\n",
        "## Understand AI Training and Limitations\n",
        "Critical discussion on the capabilities and limitations of the GPT model used in this experiment.\n",
        "\n",
        "### Questions for Reflection\n",
        "- **Training Data Scope**: Consider whether the GPT model had exposure to specific medical content like that on the AHA page. How does the scope of training data influence the model's performance?\n",
        "- **Handling Novel Data**: Discuss the model's potential performance with less common or newly introduced hypertension medications. What challenges might arise?\n",
        "- **Human Oversight**: Explore strategies for integrating human judgment in evaluating AI performance. How can medical professionals remain actively involved to ensure the accuracy and reliability of AI applications?"
      ],
      "metadata": {
        "id": "IJEMuPtO8RVP"
      }
    }
  ],
  "metadata": {
    "colab": {
      "provenance": [],
      "authorship_tag": "ABX9TyMadAKNHmOCwvFaNDGxWCFQ",
      "include_colab_link": true
    },
    "kernelspec": {
      "display_name": "Python 3",
      "name": "python3"
    },
    "language_info": {
      "name": "python"
    }
  },
  "nbformat": 4,
  "nbformat_minor": 0
}